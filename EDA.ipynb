{
  "cells": [
    {
      "cell_type": "code",
      "execution_count": 56,
      "metadata": {
        "id": "pxdEnowgwBNt"
      },
      "outputs": [],
      "source": [
        "import numpy as np\n",
        "import matplotlib.pyplot as plt\n",
        "import seaborn as sns\n",
        "import pandas as pd"
      ]
    },
    {
      "cell_type": "code",
      "execution_count": 57,
      "metadata": {
        "id": "u9__xRW0wBNu"
      },
      "outputs": [],
      "source": [
        "user_details = pd.read_excel('D:\\\\upliance.ai Assignment\\\\Dataset\\\\Data Analyst Intern Assignment - Excel.xlsx')"
      ]
    },
    {
      "cell_type": "code",
      "execution_count": 58,
      "metadata": {
        "colab": {
          "base_uri": "https://localhost:8080/",
          "height": 363
        },
        "id": "hRL80J1ZwBNu",
        "outputId": "3f2aefb9-0673-4acf-a920-dfcea31b7137"
      },
      "outputs": [
        {
          "data": {
            "text/html": [
              "<div>\n",
              "<style scoped>\n",
              "    .dataframe tbody tr th:only-of-type {\n",
              "        vertical-align: middle;\n",
              "    }\n",
              "\n",
              "    .dataframe tbody tr th {\n",
              "        vertical-align: top;\n",
              "    }\n",
              "\n",
              "    .dataframe thead th {\n",
              "        text-align: right;\n",
              "    }\n",
              "</style>\n",
              "<table border=\"1\" class=\"dataframe\">\n",
              "  <thead>\n",
              "    <tr style=\"text-align: right;\">\n",
              "      <th></th>\n",
              "      <th>User ID</th>\n",
              "      <th>User Name</th>\n",
              "      <th>Age</th>\n",
              "      <th>Location</th>\n",
              "      <th>Registration Date</th>\n",
              "      <th>Phone</th>\n",
              "      <th>Email</th>\n",
              "      <th>Favorite Meal</th>\n",
              "      <th>Total Orders</th>\n",
              "    </tr>\n",
              "  </thead>\n",
              "  <tbody>\n",
              "    <tr>\n",
              "      <th>0</th>\n",
              "      <td>U001</td>\n",
              "      <td>Alice Johnson</td>\n",
              "      <td>28</td>\n",
              "      <td>New York</td>\n",
              "      <td>2023-01-15</td>\n",
              "      <td>123-456-7890</td>\n",
              "      <td>alice@email.com</td>\n",
              "      <td>Dinner</td>\n",
              "      <td>12</td>\n",
              "    </tr>\n",
              "    <tr>\n",
              "      <th>1</th>\n",
              "      <td>U002</td>\n",
              "      <td>Bob Smith</td>\n",
              "      <td>35</td>\n",
              "      <td>Los Angeles</td>\n",
              "      <td>2023-02-20</td>\n",
              "      <td>987-654-3210</td>\n",
              "      <td>bob@email.com</td>\n",
              "      <td>Lunch</td>\n",
              "      <td>8</td>\n",
              "    </tr>\n",
              "    <tr>\n",
              "      <th>2</th>\n",
              "      <td>U003</td>\n",
              "      <td>Charlie Lee</td>\n",
              "      <td>42</td>\n",
              "      <td>Chicago</td>\n",
              "      <td>2023-03-10</td>\n",
              "      <td>555-123-4567</td>\n",
              "      <td>charlie@email.com</td>\n",
              "      <td>Breakfast</td>\n",
              "      <td>15</td>\n",
              "    </tr>\n",
              "    <tr>\n",
              "      <th>3</th>\n",
              "      <td>U004</td>\n",
              "      <td>David Brown</td>\n",
              "      <td>27</td>\n",
              "      <td>San Francisco</td>\n",
              "      <td>2023-04-05</td>\n",
              "      <td>444-333-2222</td>\n",
              "      <td>david@email.com</td>\n",
              "      <td>Dinner</td>\n",
              "      <td>10</td>\n",
              "    </tr>\n",
              "    <tr>\n",
              "      <th>4</th>\n",
              "      <td>U005</td>\n",
              "      <td>Emma White</td>\n",
              "      <td>30</td>\n",
              "      <td>Seattle</td>\n",
              "      <td>2023-05-22</td>\n",
              "      <td>777-888-9999</td>\n",
              "      <td>emma@email.com</td>\n",
              "      <td>Lunch</td>\n",
              "      <td>9</td>\n",
              "    </tr>\n",
              "    <tr>\n",
              "      <th>5</th>\n",
              "      <td>U006</td>\n",
              "      <td>Frank Green</td>\n",
              "      <td>25</td>\n",
              "      <td>Austin</td>\n",
              "      <td>2023-06-15</td>\n",
              "      <td>888-777-6666</td>\n",
              "      <td>frank@email.com</td>\n",
              "      <td>Dinner</td>\n",
              "      <td>7</td>\n",
              "    </tr>\n",
              "    <tr>\n",
              "      <th>6</th>\n",
              "      <td>U007</td>\n",
              "      <td>Grace King</td>\n",
              "      <td>38</td>\n",
              "      <td>Boston</td>\n",
              "      <td>2023-07-02</td>\n",
              "      <td>999-888-7777</td>\n",
              "      <td>grace@email.com</td>\n",
              "      <td>Breakfast</td>\n",
              "      <td>14</td>\n",
              "    </tr>\n",
              "    <tr>\n",
              "      <th>7</th>\n",
              "      <td>U008</td>\n",
              "      <td>Henry Lee</td>\n",
              "      <td>31</td>\n",
              "      <td>Miami</td>\n",
              "      <td>2023-08-11</td>\n",
              "      <td>101-202-3030</td>\n",
              "      <td>henry@email.com</td>\n",
              "      <td>Dinner</td>\n",
              "      <td>5</td>\n",
              "    </tr>\n",
              "    <tr>\n",
              "      <th>8</th>\n",
              "      <td>U009</td>\n",
              "      <td>Irene Moore</td>\n",
              "      <td>33</td>\n",
              "      <td>Dallas</td>\n",
              "      <td>2023-09-01</td>\n",
              "      <td>202-303-4040</td>\n",
              "      <td>irene@email.com</td>\n",
              "      <td>Lunch</td>\n",
              "      <td>6</td>\n",
              "    </tr>\n",
              "    <tr>\n",
              "      <th>9</th>\n",
              "      <td>U010</td>\n",
              "      <td>Jack White</td>\n",
              "      <td>29</td>\n",
              "      <td>Phoenix</td>\n",
              "      <td>2023-10-10</td>\n",
              "      <td>303-404-5050</td>\n",
              "      <td>jack@email.com</td>\n",
              "      <td>Dinner</td>\n",
              "      <td>8</td>\n",
              "    </tr>\n",
              "  </tbody>\n",
              "</table>\n",
              "</div>"
            ],
            "text/plain": [
              "  User ID      User Name  Age       Location Registration Date         Phone   \n",
              "0    U001  Alice Johnson   28       New York        2023-01-15  123-456-7890  \\\n",
              "1    U002      Bob Smith   35    Los Angeles        2023-02-20  987-654-3210   \n",
              "2    U003    Charlie Lee   42        Chicago        2023-03-10  555-123-4567   \n",
              "3    U004    David Brown   27  San Francisco        2023-04-05  444-333-2222   \n",
              "4    U005     Emma White   30        Seattle        2023-05-22  777-888-9999   \n",
              "5    U006    Frank Green   25         Austin        2023-06-15  888-777-6666   \n",
              "6    U007     Grace King   38         Boston        2023-07-02  999-888-7777   \n",
              "7    U008      Henry Lee   31          Miami        2023-08-11  101-202-3030   \n",
              "8    U009    Irene Moore   33         Dallas        2023-09-01  202-303-4040   \n",
              "9    U010     Jack White   29        Phoenix        2023-10-10  303-404-5050   \n",
              "\n",
              "               Email Favorite Meal  Total Orders  \n",
              "0    alice@email.com        Dinner            12  \n",
              "1      bob@email.com         Lunch             8  \n",
              "2  charlie@email.com     Breakfast            15  \n",
              "3    david@email.com        Dinner            10  \n",
              "4     emma@email.com         Lunch             9  \n",
              "5    frank@email.com        Dinner             7  \n",
              "6    grace@email.com     Breakfast            14  \n",
              "7    henry@email.com        Dinner             5  \n",
              "8    irene@email.com         Lunch             6  \n",
              "9     jack@email.com        Dinner             8  "
            ]
          },
          "execution_count": 58,
          "metadata": {},
          "output_type": "execute_result"
        }
      ],
      "source": [
        "user_details"
      ]
    },
    {
      "cell_type": "code",
      "execution_count": 59,
      "metadata": {
        "id": "NRhtIUWnwBNv"
      },
      "outputs": [],
      "source": [
        "cooking_sessions = pd.read_excel('D:\\\\upliance.ai Assignment\\\\Dataset\\\\Data Analyst Intern Assignment - Excel.xlsx', sheet_name='CookingSessions.csv')"
      ]
    },
    {
      "cell_type": "code",
      "execution_count": 60,
      "metadata": {
        "colab": {
          "base_uri": "https://localhost:8080/",
          "height": 551
        },
        "id": "K62sIdUuwBNv",
        "outputId": "57e0fa90-23c0-4806-cb69-4074337953d9"
      },
      "outputs": [
        {
          "data": {
            "text/html": [
              "<div>\n",
              "<style scoped>\n",
              "    .dataframe tbody tr th:only-of-type {\n",
              "        vertical-align: middle;\n",
              "    }\n",
              "\n",
              "    .dataframe tbody tr th {\n",
              "        vertical-align: top;\n",
              "    }\n",
              "\n",
              "    .dataframe thead th {\n",
              "        text-align: right;\n",
              "    }\n",
              "</style>\n",
              "<table border=\"1\" class=\"dataframe\">\n",
              "  <thead>\n",
              "    <tr style=\"text-align: right;\">\n",
              "      <th></th>\n",
              "      <th>Session ID</th>\n",
              "      <th>User ID</th>\n",
              "      <th>Dish Name</th>\n",
              "      <th>Meal Type</th>\n",
              "      <th>Session Start</th>\n",
              "      <th>Session End</th>\n",
              "      <th>Duration (mins)</th>\n",
              "      <th>Session Rating</th>\n",
              "    </tr>\n",
              "  </thead>\n",
              "  <tbody>\n",
              "    <tr>\n",
              "      <th>0</th>\n",
              "      <td>S001</td>\n",
              "      <td>U001</td>\n",
              "      <td>Spaghetti</td>\n",
              "      <td>Dinner</td>\n",
              "      <td>2024-12-01 19:00:00</td>\n",
              "      <td>2024-12-01 19:30:00</td>\n",
              "      <td>30</td>\n",
              "      <td>4.5</td>\n",
              "    </tr>\n",
              "    <tr>\n",
              "      <th>1</th>\n",
              "      <td>S002</td>\n",
              "      <td>U002</td>\n",
              "      <td>Caesar Salad</td>\n",
              "      <td>Lunch</td>\n",
              "      <td>2024-12-01 12:00:00</td>\n",
              "      <td>2024-12-01 12:20:00</td>\n",
              "      <td>20</td>\n",
              "      <td>4.0</td>\n",
              "    </tr>\n",
              "    <tr>\n",
              "      <th>2</th>\n",
              "      <td>S003</td>\n",
              "      <td>U003</td>\n",
              "      <td>Grilled Chicken</td>\n",
              "      <td>Dinner</td>\n",
              "      <td>2024-12-02 19:30:00</td>\n",
              "      <td>2024-12-02 20:10:00</td>\n",
              "      <td>40</td>\n",
              "      <td>4.8</td>\n",
              "    </tr>\n",
              "    <tr>\n",
              "      <th>3</th>\n",
              "      <td>S004</td>\n",
              "      <td>U001</td>\n",
              "      <td>Pancakes</td>\n",
              "      <td>Breakfast</td>\n",
              "      <td>2024-12-02 07:30:00</td>\n",
              "      <td>2024-12-02 08:00:00</td>\n",
              "      <td>30</td>\n",
              "      <td>4.2</td>\n",
              "    </tr>\n",
              "    <tr>\n",
              "      <th>4</th>\n",
              "      <td>S005</td>\n",
              "      <td>U004</td>\n",
              "      <td>Caesar Salad</td>\n",
              "      <td>Lunch</td>\n",
              "      <td>2024-12-03 13:00:00</td>\n",
              "      <td>2024-12-03 13:15:00</td>\n",
              "      <td>15</td>\n",
              "      <td>4.7</td>\n",
              "    </tr>\n",
              "    <tr>\n",
              "      <th>5</th>\n",
              "      <td>S006</td>\n",
              "      <td>U002</td>\n",
              "      <td>Spaghetti</td>\n",
              "      <td>Dinner</td>\n",
              "      <td>2024-12-03 18:30:00</td>\n",
              "      <td>2024-12-03 19:00:00</td>\n",
              "      <td>30</td>\n",
              "      <td>4.3</td>\n",
              "    </tr>\n",
              "    <tr>\n",
              "      <th>6</th>\n",
              "      <td>S007</td>\n",
              "      <td>U005</td>\n",
              "      <td>Grilled Chicken</td>\n",
              "      <td>Dinner</td>\n",
              "      <td>2024-12-04 18:00:00</td>\n",
              "      <td>2024-12-04 18:45:00</td>\n",
              "      <td>45</td>\n",
              "      <td>4.6</td>\n",
              "    </tr>\n",
              "    <tr>\n",
              "      <th>7</th>\n",
              "      <td>S008</td>\n",
              "      <td>U003</td>\n",
              "      <td>Veggie Burger</td>\n",
              "      <td>Lunch</td>\n",
              "      <td>2024-12-04 13:30:00</td>\n",
              "      <td>2024-12-04 13:50:00</td>\n",
              "      <td>20</td>\n",
              "      <td>4.4</td>\n",
              "    </tr>\n",
              "    <tr>\n",
              "      <th>8</th>\n",
              "      <td>S009</td>\n",
              "      <td>U001</td>\n",
              "      <td>Grilled Chicken</td>\n",
              "      <td>Dinner</td>\n",
              "      <td>2024-12-05 19:00:00</td>\n",
              "      <td>2024-12-05 19:40:00</td>\n",
              "      <td>40</td>\n",
              "      <td>4.9</td>\n",
              "    </tr>\n",
              "    <tr>\n",
              "      <th>9</th>\n",
              "      <td>S010</td>\n",
              "      <td>U002</td>\n",
              "      <td>Oatmeal</td>\n",
              "      <td>Breakfast</td>\n",
              "      <td>2024-12-05 07:00:00</td>\n",
              "      <td>2024-12-05 07:10:00</td>\n",
              "      <td>10</td>\n",
              "      <td>4.1</td>\n",
              "    </tr>\n",
              "    <tr>\n",
              "      <th>10</th>\n",
              "      <td>S011</td>\n",
              "      <td>U003</td>\n",
              "      <td>Pancakes</td>\n",
              "      <td>Breakfast</td>\n",
              "      <td>2024-12-06 08:00:00</td>\n",
              "      <td>2024-12-06 08:30:00</td>\n",
              "      <td>30</td>\n",
              "      <td>4.6</td>\n",
              "    </tr>\n",
              "    <tr>\n",
              "      <th>11</th>\n",
              "      <td>S012</td>\n",
              "      <td>U004</td>\n",
              "      <td>Spaghetti</td>\n",
              "      <td>Dinner</td>\n",
              "      <td>2024-12-06 19:00:00</td>\n",
              "      <td>2024-12-06 19:40:00</td>\n",
              "      <td>40</td>\n",
              "      <td>4.7</td>\n",
              "    </tr>\n",
              "    <tr>\n",
              "      <th>12</th>\n",
              "      <td>S013</td>\n",
              "      <td>U005</td>\n",
              "      <td>Caesar Salad</td>\n",
              "      <td>Lunch</td>\n",
              "      <td>2024-12-07 12:30:00</td>\n",
              "      <td>2024-12-07 13:00:00</td>\n",
              "      <td>30</td>\n",
              "      <td>4.4</td>\n",
              "    </tr>\n",
              "    <tr>\n",
              "      <th>13</th>\n",
              "      <td>S014</td>\n",
              "      <td>U006</td>\n",
              "      <td>Grilled Chicken</td>\n",
              "      <td>Dinner</td>\n",
              "      <td>2024-12-07 18:00:00</td>\n",
              "      <td>2024-12-07 18:45:00</td>\n",
              "      <td>45</td>\n",
              "      <td>4.8</td>\n",
              "    </tr>\n",
              "    <tr>\n",
              "      <th>14</th>\n",
              "      <td>S015</td>\n",
              "      <td>U007</td>\n",
              "      <td>Spaghetti</td>\n",
              "      <td>Dinner</td>\n",
              "      <td>2024-12-08 19:30:00</td>\n",
              "      <td>2024-12-08 20:10:00</td>\n",
              "      <td>40</td>\n",
              "      <td>5.0</td>\n",
              "    </tr>\n",
              "    <tr>\n",
              "      <th>15</th>\n",
              "      <td>S016</td>\n",
              "      <td>U008</td>\n",
              "      <td>Veggie Burger</td>\n",
              "      <td>Lunch</td>\n",
              "      <td>2024-12-08 13:30:00</td>\n",
              "      <td>2024-12-08 13:50:00</td>\n",
              "      <td>20</td>\n",
              "      <td>4.3</td>\n",
              "    </tr>\n",
              "  </tbody>\n",
              "</table>\n",
              "</div>"
            ],
            "text/plain": [
              "   Session ID User ID        Dish Name  Meal Type       Session Start   \n",
              "0        S001    U001        Spaghetti     Dinner 2024-12-01 19:00:00  \\\n",
              "1        S002    U002     Caesar Salad      Lunch 2024-12-01 12:00:00   \n",
              "2        S003    U003  Grilled Chicken     Dinner 2024-12-02 19:30:00   \n",
              "3        S004    U001         Pancakes  Breakfast 2024-12-02 07:30:00   \n",
              "4        S005    U004     Caesar Salad      Lunch 2024-12-03 13:00:00   \n",
              "5        S006    U002        Spaghetti     Dinner 2024-12-03 18:30:00   \n",
              "6        S007    U005  Grilled Chicken     Dinner 2024-12-04 18:00:00   \n",
              "7        S008    U003    Veggie Burger      Lunch 2024-12-04 13:30:00   \n",
              "8        S009    U001  Grilled Chicken     Dinner 2024-12-05 19:00:00   \n",
              "9        S010    U002          Oatmeal  Breakfast 2024-12-05 07:00:00   \n",
              "10       S011    U003         Pancakes  Breakfast 2024-12-06 08:00:00   \n",
              "11       S012    U004        Spaghetti     Dinner 2024-12-06 19:00:00   \n",
              "12       S013    U005     Caesar Salad      Lunch 2024-12-07 12:30:00   \n",
              "13       S014    U006  Grilled Chicken     Dinner 2024-12-07 18:00:00   \n",
              "14       S015    U007        Spaghetti     Dinner 2024-12-08 19:30:00   \n",
              "15       S016    U008    Veggie Burger      Lunch 2024-12-08 13:30:00   \n",
              "\n",
              "           Session End  Duration (mins)  Session Rating  \n",
              "0  2024-12-01 19:30:00               30             4.5  \n",
              "1  2024-12-01 12:20:00               20             4.0  \n",
              "2  2024-12-02 20:10:00               40             4.8  \n",
              "3  2024-12-02 08:00:00               30             4.2  \n",
              "4  2024-12-03 13:15:00               15             4.7  \n",
              "5  2024-12-03 19:00:00               30             4.3  \n",
              "6  2024-12-04 18:45:00               45             4.6  \n",
              "7  2024-12-04 13:50:00               20             4.4  \n",
              "8  2024-12-05 19:40:00               40             4.9  \n",
              "9  2024-12-05 07:10:00               10             4.1  \n",
              "10 2024-12-06 08:30:00               30             4.6  \n",
              "11 2024-12-06 19:40:00               40             4.7  \n",
              "12 2024-12-07 13:00:00               30             4.4  \n",
              "13 2024-12-07 18:45:00               45             4.8  \n",
              "14 2024-12-08 20:10:00               40             5.0  \n",
              "15 2024-12-08 13:50:00               20             4.3  "
            ]
          },
          "execution_count": 60,
          "metadata": {},
          "output_type": "execute_result"
        }
      ],
      "source": [
        "cooking_sessions"
      ]
    },
    {
      "cell_type": "code",
      "execution_count": 61,
      "metadata": {
        "id": "mrrLNmkNwBNv"
      },
      "outputs": [],
      "source": [
        "order_details = pd.read_excel('D:\\\\upliance.ai Assignment\\\\Dataset\\\\Data Analyst Intern Assignment - Excel.xlsx', sheet_name='OrderDetails.csv')"
      ]
    },
    {
      "cell_type": "code",
      "execution_count": 62,
      "metadata": {
        "colab": {
          "base_uri": "https://localhost:8080/",
          "height": 551
        },
        "id": "Y_68OlZ9wBNv",
        "outputId": "8a830722-6f3b-4a8a-b7fe-e8f59a8da2d3"
      },
      "outputs": [
        {
          "data": {
            "text/html": [
              "<div>\n",
              "<style scoped>\n",
              "    .dataframe tbody tr th:only-of-type {\n",
              "        vertical-align: middle;\n",
              "    }\n",
              "\n",
              "    .dataframe tbody tr th {\n",
              "        vertical-align: top;\n",
              "    }\n",
              "\n",
              "    .dataframe thead th {\n",
              "        text-align: right;\n",
              "    }\n",
              "</style>\n",
              "<table border=\"1\" class=\"dataframe\">\n",
              "  <thead>\n",
              "    <tr style=\"text-align: right;\">\n",
              "      <th></th>\n",
              "      <th>Order ID</th>\n",
              "      <th>User ID</th>\n",
              "      <th>Order Date</th>\n",
              "      <th>Meal Type</th>\n",
              "      <th>Dish Name</th>\n",
              "      <th>Order Status</th>\n",
              "      <th>Amount (USD)</th>\n",
              "      <th>Time of Day</th>\n",
              "      <th>Rating</th>\n",
              "      <th>Session ID</th>\n",
              "    </tr>\n",
              "  </thead>\n",
              "  <tbody>\n",
              "    <tr>\n",
              "      <th>0</th>\n",
              "      <td>1001</td>\n",
              "      <td>U001</td>\n",
              "      <td>2024-12-01</td>\n",
              "      <td>Dinner</td>\n",
              "      <td>Spaghetti</td>\n",
              "      <td>Completed</td>\n",
              "      <td>15.0</td>\n",
              "      <td>Night</td>\n",
              "      <td>5.0</td>\n",
              "      <td>S001</td>\n",
              "    </tr>\n",
              "    <tr>\n",
              "      <th>1</th>\n",
              "      <td>1002</td>\n",
              "      <td>U002</td>\n",
              "      <td>2024-12-01</td>\n",
              "      <td>Lunch</td>\n",
              "      <td>Caesar Salad</td>\n",
              "      <td>Completed</td>\n",
              "      <td>10.0</td>\n",
              "      <td>Day</td>\n",
              "      <td>4.0</td>\n",
              "      <td>S002</td>\n",
              "    </tr>\n",
              "    <tr>\n",
              "      <th>2</th>\n",
              "      <td>1003</td>\n",
              "      <td>U003</td>\n",
              "      <td>2024-12-02</td>\n",
              "      <td>Dinner</td>\n",
              "      <td>Grilled Chicken</td>\n",
              "      <td>Canceled</td>\n",
              "      <td>12.5</td>\n",
              "      <td>Night</td>\n",
              "      <td>NaN</td>\n",
              "      <td>S003</td>\n",
              "    </tr>\n",
              "    <tr>\n",
              "      <th>3</th>\n",
              "      <td>1004</td>\n",
              "      <td>U001</td>\n",
              "      <td>2024-12-02</td>\n",
              "      <td>Breakfast</td>\n",
              "      <td>Pancakes</td>\n",
              "      <td>Completed</td>\n",
              "      <td>8.0</td>\n",
              "      <td>Morning</td>\n",
              "      <td>4.0</td>\n",
              "      <td>S004</td>\n",
              "    </tr>\n",
              "    <tr>\n",
              "      <th>4</th>\n",
              "      <td>1005</td>\n",
              "      <td>U004</td>\n",
              "      <td>2024-12-03</td>\n",
              "      <td>Lunch</td>\n",
              "      <td>Caesar Salad</td>\n",
              "      <td>Completed</td>\n",
              "      <td>9.0</td>\n",
              "      <td>Day</td>\n",
              "      <td>4.0</td>\n",
              "      <td>S005</td>\n",
              "    </tr>\n",
              "    <tr>\n",
              "      <th>5</th>\n",
              "      <td>1006</td>\n",
              "      <td>U002</td>\n",
              "      <td>2024-12-03</td>\n",
              "      <td>Dinner</td>\n",
              "      <td>Spaghetti</td>\n",
              "      <td>Completed</td>\n",
              "      <td>14.0</td>\n",
              "      <td>Night</td>\n",
              "      <td>4.0</td>\n",
              "      <td>S006</td>\n",
              "    </tr>\n",
              "    <tr>\n",
              "      <th>6</th>\n",
              "      <td>1007</td>\n",
              "      <td>U005</td>\n",
              "      <td>2024-12-04</td>\n",
              "      <td>Dinner</td>\n",
              "      <td>Grilled Chicken</td>\n",
              "      <td>Completed</td>\n",
              "      <td>13.5</td>\n",
              "      <td>Night</td>\n",
              "      <td>4.0</td>\n",
              "      <td>S007</td>\n",
              "    </tr>\n",
              "    <tr>\n",
              "      <th>7</th>\n",
              "      <td>1008</td>\n",
              "      <td>U003</td>\n",
              "      <td>2024-12-04</td>\n",
              "      <td>Lunch</td>\n",
              "      <td>Veggie Burger</td>\n",
              "      <td>Canceled</td>\n",
              "      <td>11.0</td>\n",
              "      <td>Day</td>\n",
              "      <td>NaN</td>\n",
              "      <td>S008</td>\n",
              "    </tr>\n",
              "    <tr>\n",
              "      <th>8</th>\n",
              "      <td>1009</td>\n",
              "      <td>U001</td>\n",
              "      <td>2024-12-05</td>\n",
              "      <td>Dinner</td>\n",
              "      <td>Grilled Chicken</td>\n",
              "      <td>Completed</td>\n",
              "      <td>12.0</td>\n",
              "      <td>Night</td>\n",
              "      <td>5.0</td>\n",
              "      <td>S009</td>\n",
              "    </tr>\n",
              "    <tr>\n",
              "      <th>9</th>\n",
              "      <td>1010</td>\n",
              "      <td>U002</td>\n",
              "      <td>2024-12-05</td>\n",
              "      <td>Breakfast</td>\n",
              "      <td>Oatmeal</td>\n",
              "      <td>Completed</td>\n",
              "      <td>7.0</td>\n",
              "      <td>Morning</td>\n",
              "      <td>4.0</td>\n",
              "      <td>S010</td>\n",
              "    </tr>\n",
              "    <tr>\n",
              "      <th>10</th>\n",
              "      <td>1011</td>\n",
              "      <td>U003</td>\n",
              "      <td>2024-12-06</td>\n",
              "      <td>Breakfast</td>\n",
              "      <td>Pancakes</td>\n",
              "      <td>Completed</td>\n",
              "      <td>8.5</td>\n",
              "      <td>Morning</td>\n",
              "      <td>4.0</td>\n",
              "      <td>S011</td>\n",
              "    </tr>\n",
              "    <tr>\n",
              "      <th>11</th>\n",
              "      <td>1012</td>\n",
              "      <td>U004</td>\n",
              "      <td>2024-12-06</td>\n",
              "      <td>Dinner</td>\n",
              "      <td>Spaghetti</td>\n",
              "      <td>Completed</td>\n",
              "      <td>12.5</td>\n",
              "      <td>Night</td>\n",
              "      <td>4.0</td>\n",
              "      <td>S012</td>\n",
              "    </tr>\n",
              "    <tr>\n",
              "      <th>12</th>\n",
              "      <td>1013</td>\n",
              "      <td>U005</td>\n",
              "      <td>2024-12-07</td>\n",
              "      <td>Lunch</td>\n",
              "      <td>Caesar Salad</td>\n",
              "      <td>Completed</td>\n",
              "      <td>9.0</td>\n",
              "      <td>Day</td>\n",
              "      <td>4.0</td>\n",
              "      <td>S013</td>\n",
              "    </tr>\n",
              "    <tr>\n",
              "      <th>13</th>\n",
              "      <td>1014</td>\n",
              "      <td>U006</td>\n",
              "      <td>2024-12-07</td>\n",
              "      <td>Dinner</td>\n",
              "      <td>Grilled Chicken</td>\n",
              "      <td>Completed</td>\n",
              "      <td>13.0</td>\n",
              "      <td>Night</td>\n",
              "      <td>5.0</td>\n",
              "      <td>S014</td>\n",
              "    </tr>\n",
              "    <tr>\n",
              "      <th>14</th>\n",
              "      <td>1015</td>\n",
              "      <td>U007</td>\n",
              "      <td>2024-12-08</td>\n",
              "      <td>Dinner</td>\n",
              "      <td>Spaghetti</td>\n",
              "      <td>Completed</td>\n",
              "      <td>14.0</td>\n",
              "      <td>Night</td>\n",
              "      <td>5.0</td>\n",
              "      <td>S015</td>\n",
              "    </tr>\n",
              "    <tr>\n",
              "      <th>15</th>\n",
              "      <td>1016</td>\n",
              "      <td>U008</td>\n",
              "      <td>2024-12-08</td>\n",
              "      <td>Lunch</td>\n",
              "      <td>Veggie Burger</td>\n",
              "      <td>Completed</td>\n",
              "      <td>11.0</td>\n",
              "      <td>Day</td>\n",
              "      <td>4.0</td>\n",
              "      <td>S016</td>\n",
              "    </tr>\n",
              "  </tbody>\n",
              "</table>\n",
              "</div>"
            ],
            "text/plain": [
              "    Order ID User ID Order Date  Meal Type        Dish Name Order Status   \n",
              "0       1001    U001 2024-12-01     Dinner        Spaghetti    Completed  \\\n",
              "1       1002    U002 2024-12-01      Lunch     Caesar Salad    Completed   \n",
              "2       1003    U003 2024-12-02     Dinner  Grilled Chicken     Canceled   \n",
              "3       1004    U001 2024-12-02  Breakfast         Pancakes    Completed   \n",
              "4       1005    U004 2024-12-03      Lunch     Caesar Salad    Completed   \n",
              "5       1006    U002 2024-12-03     Dinner        Spaghetti    Completed   \n",
              "6       1007    U005 2024-12-04     Dinner  Grilled Chicken    Completed   \n",
              "7       1008    U003 2024-12-04      Lunch    Veggie Burger     Canceled   \n",
              "8       1009    U001 2024-12-05     Dinner  Grilled Chicken    Completed   \n",
              "9       1010    U002 2024-12-05  Breakfast          Oatmeal    Completed   \n",
              "10      1011    U003 2024-12-06  Breakfast         Pancakes    Completed   \n",
              "11      1012    U004 2024-12-06     Dinner        Spaghetti    Completed   \n",
              "12      1013    U005 2024-12-07      Lunch     Caesar Salad    Completed   \n",
              "13      1014    U006 2024-12-07     Dinner  Grilled Chicken    Completed   \n",
              "14      1015    U007 2024-12-08     Dinner        Spaghetti    Completed   \n",
              "15      1016    U008 2024-12-08      Lunch    Veggie Burger    Completed   \n",
              "\n",
              "    Amount (USD) Time of Day  Rating Session ID  \n",
              "0           15.0       Night     5.0       S001  \n",
              "1           10.0         Day     4.0       S002  \n",
              "2           12.5       Night     NaN       S003  \n",
              "3            8.0     Morning     4.0       S004  \n",
              "4            9.0         Day     4.0       S005  \n",
              "5           14.0       Night     4.0       S006  \n",
              "6           13.5       Night     4.0       S007  \n",
              "7           11.0         Day     NaN       S008  \n",
              "8           12.0       Night     5.0       S009  \n",
              "9            7.0     Morning     4.0       S010  \n",
              "10           8.5     Morning     4.0       S011  \n",
              "11          12.5       Night     4.0       S012  \n",
              "12           9.0         Day     4.0       S013  \n",
              "13          13.0       Night     5.0       S014  \n",
              "14          14.0       Night     5.0       S015  \n",
              "15          11.0         Day     4.0       S016  "
            ]
          },
          "execution_count": 62,
          "metadata": {},
          "output_type": "execute_result"
        }
      ],
      "source": [
        "order_details"
      ]
    },
    {
      "cell_type": "code",
      "execution_count": 63,
      "metadata": {
        "id": "X1AUTUbMwBNv"
      },
      "outputs": [],
      "source": [
        "#There are some null values in the rating column"
      ]
    },
    {
      "cell_type": "code",
      "execution_count": 64,
      "metadata": {
        "id": "-UfBeTZswBNv"
      },
      "outputs": [],
      "source": [
        "#replace the null values from the rating column\n",
        "order_details.fillna(order_details['Rating'].median(),inplace=True)"
      ]
    },
    {
      "cell_type": "code",
      "execution_count": 65,
      "metadata": {
        "colab": {
          "base_uri": "https://localhost:8080/",
          "height": 551
        },
        "id": "gby1PU3ewBNw",
        "outputId": "8672e395-a61d-4683-802c-11c62529f6d1"
      },
      "outputs": [
        {
          "data": {
            "text/html": [
              "<div>\n",
              "<style scoped>\n",
              "    .dataframe tbody tr th:only-of-type {\n",
              "        vertical-align: middle;\n",
              "    }\n",
              "\n",
              "    .dataframe tbody tr th {\n",
              "        vertical-align: top;\n",
              "    }\n",
              "\n",
              "    .dataframe thead th {\n",
              "        text-align: right;\n",
              "    }\n",
              "</style>\n",
              "<table border=\"1\" class=\"dataframe\">\n",
              "  <thead>\n",
              "    <tr style=\"text-align: right;\">\n",
              "      <th></th>\n",
              "      <th>Order ID</th>\n",
              "      <th>User ID</th>\n",
              "      <th>Order Date</th>\n",
              "      <th>Meal Type</th>\n",
              "      <th>Dish Name</th>\n",
              "      <th>Order Status</th>\n",
              "      <th>Amount (USD)</th>\n",
              "      <th>Time of Day</th>\n",
              "      <th>Rating</th>\n",
              "      <th>Session ID</th>\n",
              "    </tr>\n",
              "  </thead>\n",
              "  <tbody>\n",
              "    <tr>\n",
              "      <th>0</th>\n",
              "      <td>1001</td>\n",
              "      <td>U001</td>\n",
              "      <td>2024-12-01</td>\n",
              "      <td>Dinner</td>\n",
              "      <td>Spaghetti</td>\n",
              "      <td>Completed</td>\n",
              "      <td>15.0</td>\n",
              "      <td>Night</td>\n",
              "      <td>5.0</td>\n",
              "      <td>S001</td>\n",
              "    </tr>\n",
              "    <tr>\n",
              "      <th>1</th>\n",
              "      <td>1002</td>\n",
              "      <td>U002</td>\n",
              "      <td>2024-12-01</td>\n",
              "      <td>Lunch</td>\n",
              "      <td>Caesar Salad</td>\n",
              "      <td>Completed</td>\n",
              "      <td>10.0</td>\n",
              "      <td>Day</td>\n",
              "      <td>4.0</td>\n",
              "      <td>S002</td>\n",
              "    </tr>\n",
              "    <tr>\n",
              "      <th>2</th>\n",
              "      <td>1003</td>\n",
              "      <td>U003</td>\n",
              "      <td>2024-12-02</td>\n",
              "      <td>Dinner</td>\n",
              "      <td>Grilled Chicken</td>\n",
              "      <td>Canceled</td>\n",
              "      <td>12.5</td>\n",
              "      <td>Night</td>\n",
              "      <td>4.0</td>\n",
              "      <td>S003</td>\n",
              "    </tr>\n",
              "    <tr>\n",
              "      <th>3</th>\n",
              "      <td>1004</td>\n",
              "      <td>U001</td>\n",
              "      <td>2024-12-02</td>\n",
              "      <td>Breakfast</td>\n",
              "      <td>Pancakes</td>\n",
              "      <td>Completed</td>\n",
              "      <td>8.0</td>\n",
              "      <td>Morning</td>\n",
              "      <td>4.0</td>\n",
              "      <td>S004</td>\n",
              "    </tr>\n",
              "    <tr>\n",
              "      <th>4</th>\n",
              "      <td>1005</td>\n",
              "      <td>U004</td>\n",
              "      <td>2024-12-03</td>\n",
              "      <td>Lunch</td>\n",
              "      <td>Caesar Salad</td>\n",
              "      <td>Completed</td>\n",
              "      <td>9.0</td>\n",
              "      <td>Day</td>\n",
              "      <td>4.0</td>\n",
              "      <td>S005</td>\n",
              "    </tr>\n",
              "    <tr>\n",
              "      <th>5</th>\n",
              "      <td>1006</td>\n",
              "      <td>U002</td>\n",
              "      <td>2024-12-03</td>\n",
              "      <td>Dinner</td>\n",
              "      <td>Spaghetti</td>\n",
              "      <td>Completed</td>\n",
              "      <td>14.0</td>\n",
              "      <td>Night</td>\n",
              "      <td>4.0</td>\n",
              "      <td>S006</td>\n",
              "    </tr>\n",
              "    <tr>\n",
              "      <th>6</th>\n",
              "      <td>1007</td>\n",
              "      <td>U005</td>\n",
              "      <td>2024-12-04</td>\n",
              "      <td>Dinner</td>\n",
              "      <td>Grilled Chicken</td>\n",
              "      <td>Completed</td>\n",
              "      <td>13.5</td>\n",
              "      <td>Night</td>\n",
              "      <td>4.0</td>\n",
              "      <td>S007</td>\n",
              "    </tr>\n",
              "    <tr>\n",
              "      <th>7</th>\n",
              "      <td>1008</td>\n",
              "      <td>U003</td>\n",
              "      <td>2024-12-04</td>\n",
              "      <td>Lunch</td>\n",
              "      <td>Veggie Burger</td>\n",
              "      <td>Canceled</td>\n",
              "      <td>11.0</td>\n",
              "      <td>Day</td>\n",
              "      <td>4.0</td>\n",
              "      <td>S008</td>\n",
              "    </tr>\n",
              "    <tr>\n",
              "      <th>8</th>\n",
              "      <td>1009</td>\n",
              "      <td>U001</td>\n",
              "      <td>2024-12-05</td>\n",
              "      <td>Dinner</td>\n",
              "      <td>Grilled Chicken</td>\n",
              "      <td>Completed</td>\n",
              "      <td>12.0</td>\n",
              "      <td>Night</td>\n",
              "      <td>5.0</td>\n",
              "      <td>S009</td>\n",
              "    </tr>\n",
              "    <tr>\n",
              "      <th>9</th>\n",
              "      <td>1010</td>\n",
              "      <td>U002</td>\n",
              "      <td>2024-12-05</td>\n",
              "      <td>Breakfast</td>\n",
              "      <td>Oatmeal</td>\n",
              "      <td>Completed</td>\n",
              "      <td>7.0</td>\n",
              "      <td>Morning</td>\n",
              "      <td>4.0</td>\n",
              "      <td>S010</td>\n",
              "    </tr>\n",
              "    <tr>\n",
              "      <th>10</th>\n",
              "      <td>1011</td>\n",
              "      <td>U003</td>\n",
              "      <td>2024-12-06</td>\n",
              "      <td>Breakfast</td>\n",
              "      <td>Pancakes</td>\n",
              "      <td>Completed</td>\n",
              "      <td>8.5</td>\n",
              "      <td>Morning</td>\n",
              "      <td>4.0</td>\n",
              "      <td>S011</td>\n",
              "    </tr>\n",
              "    <tr>\n",
              "      <th>11</th>\n",
              "      <td>1012</td>\n",
              "      <td>U004</td>\n",
              "      <td>2024-12-06</td>\n",
              "      <td>Dinner</td>\n",
              "      <td>Spaghetti</td>\n",
              "      <td>Completed</td>\n",
              "      <td>12.5</td>\n",
              "      <td>Night</td>\n",
              "      <td>4.0</td>\n",
              "      <td>S012</td>\n",
              "    </tr>\n",
              "    <tr>\n",
              "      <th>12</th>\n",
              "      <td>1013</td>\n",
              "      <td>U005</td>\n",
              "      <td>2024-12-07</td>\n",
              "      <td>Lunch</td>\n",
              "      <td>Caesar Salad</td>\n",
              "      <td>Completed</td>\n",
              "      <td>9.0</td>\n",
              "      <td>Day</td>\n",
              "      <td>4.0</td>\n",
              "      <td>S013</td>\n",
              "    </tr>\n",
              "    <tr>\n",
              "      <th>13</th>\n",
              "      <td>1014</td>\n",
              "      <td>U006</td>\n",
              "      <td>2024-12-07</td>\n",
              "      <td>Dinner</td>\n",
              "      <td>Grilled Chicken</td>\n",
              "      <td>Completed</td>\n",
              "      <td>13.0</td>\n",
              "      <td>Night</td>\n",
              "      <td>5.0</td>\n",
              "      <td>S014</td>\n",
              "    </tr>\n",
              "    <tr>\n",
              "      <th>14</th>\n",
              "      <td>1015</td>\n",
              "      <td>U007</td>\n",
              "      <td>2024-12-08</td>\n",
              "      <td>Dinner</td>\n",
              "      <td>Spaghetti</td>\n",
              "      <td>Completed</td>\n",
              "      <td>14.0</td>\n",
              "      <td>Night</td>\n",
              "      <td>5.0</td>\n",
              "      <td>S015</td>\n",
              "    </tr>\n",
              "    <tr>\n",
              "      <th>15</th>\n",
              "      <td>1016</td>\n",
              "      <td>U008</td>\n",
              "      <td>2024-12-08</td>\n",
              "      <td>Lunch</td>\n",
              "      <td>Veggie Burger</td>\n",
              "      <td>Completed</td>\n",
              "      <td>11.0</td>\n",
              "      <td>Day</td>\n",
              "      <td>4.0</td>\n",
              "      <td>S016</td>\n",
              "    </tr>\n",
              "  </tbody>\n",
              "</table>\n",
              "</div>"
            ],
            "text/plain": [
              "    Order ID User ID Order Date  Meal Type        Dish Name Order Status   \n",
              "0       1001    U001 2024-12-01     Dinner        Spaghetti    Completed  \\\n",
              "1       1002    U002 2024-12-01      Lunch     Caesar Salad    Completed   \n",
              "2       1003    U003 2024-12-02     Dinner  Grilled Chicken     Canceled   \n",
              "3       1004    U001 2024-12-02  Breakfast         Pancakes    Completed   \n",
              "4       1005    U004 2024-12-03      Lunch     Caesar Salad    Completed   \n",
              "5       1006    U002 2024-12-03     Dinner        Spaghetti    Completed   \n",
              "6       1007    U005 2024-12-04     Dinner  Grilled Chicken    Completed   \n",
              "7       1008    U003 2024-12-04      Lunch    Veggie Burger     Canceled   \n",
              "8       1009    U001 2024-12-05     Dinner  Grilled Chicken    Completed   \n",
              "9       1010    U002 2024-12-05  Breakfast          Oatmeal    Completed   \n",
              "10      1011    U003 2024-12-06  Breakfast         Pancakes    Completed   \n",
              "11      1012    U004 2024-12-06     Dinner        Spaghetti    Completed   \n",
              "12      1013    U005 2024-12-07      Lunch     Caesar Salad    Completed   \n",
              "13      1014    U006 2024-12-07     Dinner  Grilled Chicken    Completed   \n",
              "14      1015    U007 2024-12-08     Dinner        Spaghetti    Completed   \n",
              "15      1016    U008 2024-12-08      Lunch    Veggie Burger    Completed   \n",
              "\n",
              "    Amount (USD) Time of Day  Rating Session ID  \n",
              "0           15.0       Night     5.0       S001  \n",
              "1           10.0         Day     4.0       S002  \n",
              "2           12.5       Night     4.0       S003  \n",
              "3            8.0     Morning     4.0       S004  \n",
              "4            9.0         Day     4.0       S005  \n",
              "5           14.0       Night     4.0       S006  \n",
              "6           13.5       Night     4.0       S007  \n",
              "7           11.0         Day     4.0       S008  \n",
              "8           12.0       Night     5.0       S009  \n",
              "9            7.0     Morning     4.0       S010  \n",
              "10           8.5     Morning     4.0       S011  \n",
              "11          12.5       Night     4.0       S012  \n",
              "12           9.0         Day     4.0       S013  \n",
              "13          13.0       Night     5.0       S014  \n",
              "14          14.0       Night     5.0       S015  \n",
              "15          11.0         Day     4.0       S016  "
            ]
          },
          "execution_count": 65,
          "metadata": {},
          "output_type": "execute_result"
        }
      ],
      "source": [
        "order_details"
      ]
    },
    {
      "cell_type": "markdown",
      "metadata": {
        "id": "O0NWu0PrwBNw"
      },
      "source": [
        "#### Merging the dataframes based on the common columns"
      ]
    },
    {
      "cell_type": "code",
      "execution_count": 66,
      "metadata": {
        "id": "12IO-yclwBNw"
      },
      "outputs": [],
      "source": [
        "ud_cs = pd.merge(user_details, cooking_sessions, on='User ID', how='inner')"
      ]
    },
    {
      "cell_type": "code",
      "execution_count": 67,
      "metadata": {
        "colab": {
          "base_uri": "https://localhost:8080/",
          "height": 417
        },
        "id": "6EYNn-UowBNw",
        "outputId": "4ca5a2f9-dfc0-42a7-8621-002057a91b78"
      },
      "outputs": [
        {
          "data": {
            "text/html": [
              "<div>\n",
              "<style scoped>\n",
              "    .dataframe tbody tr th:only-of-type {\n",
              "        vertical-align: middle;\n",
              "    }\n",
              "\n",
              "    .dataframe tbody tr th {\n",
              "        vertical-align: top;\n",
              "    }\n",
              "\n",
              "    .dataframe thead th {\n",
              "        text-align: right;\n",
              "    }\n",
              "</style>\n",
              "<table border=\"1\" class=\"dataframe\">\n",
              "  <thead>\n",
              "    <tr style=\"text-align: right;\">\n",
              "      <th></th>\n",
              "      <th>User ID</th>\n",
              "      <th>User Name</th>\n",
              "      <th>Age</th>\n",
              "      <th>Location</th>\n",
              "      <th>Registration Date</th>\n",
              "      <th>Phone</th>\n",
              "      <th>Email</th>\n",
              "      <th>Favorite Meal</th>\n",
              "      <th>Total Orders</th>\n",
              "      <th>Session ID</th>\n",
              "      <th>Dish Name</th>\n",
              "      <th>Meal Type</th>\n",
              "      <th>Session Start</th>\n",
              "      <th>Session End</th>\n",
              "      <th>Duration (mins)</th>\n",
              "      <th>Session Rating</th>\n",
              "    </tr>\n",
              "  </thead>\n",
              "  <tbody>\n",
              "    <tr>\n",
              "      <th>0</th>\n",
              "      <td>U001</td>\n",
              "      <td>Alice Johnson</td>\n",
              "      <td>28</td>\n",
              "      <td>New York</td>\n",
              "      <td>2023-01-15</td>\n",
              "      <td>123-456-7890</td>\n",
              "      <td>alice@email.com</td>\n",
              "      <td>Dinner</td>\n",
              "      <td>12</td>\n",
              "      <td>S001</td>\n",
              "      <td>Spaghetti</td>\n",
              "      <td>Dinner</td>\n",
              "      <td>2024-12-01 19:00:00</td>\n",
              "      <td>2024-12-01 19:30:00</td>\n",
              "      <td>30</td>\n",
              "      <td>4.5</td>\n",
              "    </tr>\n",
              "    <tr>\n",
              "      <th>1</th>\n",
              "      <td>U001</td>\n",
              "      <td>Alice Johnson</td>\n",
              "      <td>28</td>\n",
              "      <td>New York</td>\n",
              "      <td>2023-01-15</td>\n",
              "      <td>123-456-7890</td>\n",
              "      <td>alice@email.com</td>\n",
              "      <td>Dinner</td>\n",
              "      <td>12</td>\n",
              "      <td>S004</td>\n",
              "      <td>Pancakes</td>\n",
              "      <td>Breakfast</td>\n",
              "      <td>2024-12-02 07:30:00</td>\n",
              "      <td>2024-12-02 08:00:00</td>\n",
              "      <td>30</td>\n",
              "      <td>4.2</td>\n",
              "    </tr>\n",
              "    <tr>\n",
              "      <th>2</th>\n",
              "      <td>U001</td>\n",
              "      <td>Alice Johnson</td>\n",
              "      <td>28</td>\n",
              "      <td>New York</td>\n",
              "      <td>2023-01-15</td>\n",
              "      <td>123-456-7890</td>\n",
              "      <td>alice@email.com</td>\n",
              "      <td>Dinner</td>\n",
              "      <td>12</td>\n",
              "      <td>S009</td>\n",
              "      <td>Grilled Chicken</td>\n",
              "      <td>Dinner</td>\n",
              "      <td>2024-12-05 19:00:00</td>\n",
              "      <td>2024-12-05 19:40:00</td>\n",
              "      <td>40</td>\n",
              "      <td>4.9</td>\n",
              "    </tr>\n",
              "    <tr>\n",
              "      <th>3</th>\n",
              "      <td>U002</td>\n",
              "      <td>Bob Smith</td>\n",
              "      <td>35</td>\n",
              "      <td>Los Angeles</td>\n",
              "      <td>2023-02-20</td>\n",
              "      <td>987-654-3210</td>\n",
              "      <td>bob@email.com</td>\n",
              "      <td>Lunch</td>\n",
              "      <td>8</td>\n",
              "      <td>S002</td>\n",
              "      <td>Caesar Salad</td>\n",
              "      <td>Lunch</td>\n",
              "      <td>2024-12-01 12:00:00</td>\n",
              "      <td>2024-12-01 12:20:00</td>\n",
              "      <td>20</td>\n",
              "      <td>4.0</td>\n",
              "    </tr>\n",
              "    <tr>\n",
              "      <th>4</th>\n",
              "      <td>U002</td>\n",
              "      <td>Bob Smith</td>\n",
              "      <td>35</td>\n",
              "      <td>Los Angeles</td>\n",
              "      <td>2023-02-20</td>\n",
              "      <td>987-654-3210</td>\n",
              "      <td>bob@email.com</td>\n",
              "      <td>Lunch</td>\n",
              "      <td>8</td>\n",
              "      <td>S006</td>\n",
              "      <td>Spaghetti</td>\n",
              "      <td>Dinner</td>\n",
              "      <td>2024-12-03 18:30:00</td>\n",
              "      <td>2024-12-03 19:00:00</td>\n",
              "      <td>30</td>\n",
              "      <td>4.3</td>\n",
              "    </tr>\n",
              "  </tbody>\n",
              "</table>\n",
              "</div>"
            ],
            "text/plain": [
              "  User ID      User Name  Age     Location Registration Date         Phone   \n",
              "0    U001  Alice Johnson   28     New York        2023-01-15  123-456-7890  \\\n",
              "1    U001  Alice Johnson   28     New York        2023-01-15  123-456-7890   \n",
              "2    U001  Alice Johnson   28     New York        2023-01-15  123-456-7890   \n",
              "3    U002      Bob Smith   35  Los Angeles        2023-02-20  987-654-3210   \n",
              "4    U002      Bob Smith   35  Los Angeles        2023-02-20  987-654-3210   \n",
              "\n",
              "             Email Favorite Meal  Total Orders Session ID        Dish Name   \n",
              "0  alice@email.com        Dinner            12       S001        Spaghetti  \\\n",
              "1  alice@email.com        Dinner            12       S004         Pancakes   \n",
              "2  alice@email.com        Dinner            12       S009  Grilled Chicken   \n",
              "3    bob@email.com         Lunch             8       S002     Caesar Salad   \n",
              "4    bob@email.com         Lunch             8       S006        Spaghetti   \n",
              "\n",
              "   Meal Type       Session Start         Session End  Duration (mins)   \n",
              "0     Dinner 2024-12-01 19:00:00 2024-12-01 19:30:00               30  \\\n",
              "1  Breakfast 2024-12-02 07:30:00 2024-12-02 08:00:00               30   \n",
              "2     Dinner 2024-12-05 19:00:00 2024-12-05 19:40:00               40   \n",
              "3      Lunch 2024-12-01 12:00:00 2024-12-01 12:20:00               20   \n",
              "4     Dinner 2024-12-03 18:30:00 2024-12-03 19:00:00               30   \n",
              "\n",
              "   Session Rating  \n",
              "0             4.5  \n",
              "1             4.2  \n",
              "2             4.9  \n",
              "3             4.0  \n",
              "4             4.3  "
            ]
          },
          "execution_count": 67,
          "metadata": {},
          "output_type": "execute_result"
        }
      ],
      "source": [
        "ud_cs.head()"
      ]
    },
    {
      "cell_type": "code",
      "execution_count": 68,
      "metadata": {
        "id": "mG0dDnvXwBNx"
      },
      "outputs": [],
      "source": [
        "merged = pd.merge(order_details,ud_cs,on=['User ID','Session ID'], how='inner')"
      ]
    },
    {
      "cell_type": "code",
      "execution_count": 69,
      "metadata": {
        "colab": {
          "base_uri": "https://localhost:8080/",
          "height": 446
        },
        "id": "xaTvRUlGwBNx",
        "outputId": "1a38134f-45c0-4c5d-fdca-91eac06ce55b"
      },
      "outputs": [
        {
          "data": {
            "text/html": [
              "<div>\n",
              "<style scoped>\n",
              "    .dataframe tbody tr th:only-of-type {\n",
              "        vertical-align: middle;\n",
              "    }\n",
              "\n",
              "    .dataframe tbody tr th {\n",
              "        vertical-align: top;\n",
              "    }\n",
              "\n",
              "    .dataframe thead th {\n",
              "        text-align: right;\n",
              "    }\n",
              "</style>\n",
              "<table border=\"1\" class=\"dataframe\">\n",
              "  <thead>\n",
              "    <tr style=\"text-align: right;\">\n",
              "      <th></th>\n",
              "      <th>Order ID</th>\n",
              "      <th>User ID</th>\n",
              "      <th>Order Date</th>\n",
              "      <th>Meal Type_x</th>\n",
              "      <th>Dish Name_x</th>\n",
              "      <th>Order Status</th>\n",
              "      <th>Amount (USD)</th>\n",
              "      <th>Time of Day</th>\n",
              "      <th>Rating</th>\n",
              "      <th>Session ID</th>\n",
              "      <th>...</th>\n",
              "      <th>Phone</th>\n",
              "      <th>Email</th>\n",
              "      <th>Favorite Meal</th>\n",
              "      <th>Total Orders</th>\n",
              "      <th>Dish Name_y</th>\n",
              "      <th>Meal Type_y</th>\n",
              "      <th>Session Start</th>\n",
              "      <th>Session End</th>\n",
              "      <th>Duration (mins)</th>\n",
              "      <th>Session Rating</th>\n",
              "    </tr>\n",
              "  </thead>\n",
              "  <tbody>\n",
              "    <tr>\n",
              "      <th>0</th>\n",
              "      <td>1001</td>\n",
              "      <td>U001</td>\n",
              "      <td>2024-12-01</td>\n",
              "      <td>Dinner</td>\n",
              "      <td>Spaghetti</td>\n",
              "      <td>Completed</td>\n",
              "      <td>15.0</td>\n",
              "      <td>Night</td>\n",
              "      <td>5.0</td>\n",
              "      <td>S001</td>\n",
              "      <td>...</td>\n",
              "      <td>123-456-7890</td>\n",
              "      <td>alice@email.com</td>\n",
              "      <td>Dinner</td>\n",
              "      <td>12</td>\n",
              "      <td>Spaghetti</td>\n",
              "      <td>Dinner</td>\n",
              "      <td>2024-12-01 19:00:00</td>\n",
              "      <td>2024-12-01 19:30:00</td>\n",
              "      <td>30</td>\n",
              "      <td>4.5</td>\n",
              "    </tr>\n",
              "    <tr>\n",
              "      <th>1</th>\n",
              "      <td>1002</td>\n",
              "      <td>U002</td>\n",
              "      <td>2024-12-01</td>\n",
              "      <td>Lunch</td>\n",
              "      <td>Caesar Salad</td>\n",
              "      <td>Completed</td>\n",
              "      <td>10.0</td>\n",
              "      <td>Day</td>\n",
              "      <td>4.0</td>\n",
              "      <td>S002</td>\n",
              "      <td>...</td>\n",
              "      <td>987-654-3210</td>\n",
              "      <td>bob@email.com</td>\n",
              "      <td>Lunch</td>\n",
              "      <td>8</td>\n",
              "      <td>Caesar Salad</td>\n",
              "      <td>Lunch</td>\n",
              "      <td>2024-12-01 12:00:00</td>\n",
              "      <td>2024-12-01 12:20:00</td>\n",
              "      <td>20</td>\n",
              "      <td>4.0</td>\n",
              "    </tr>\n",
              "    <tr>\n",
              "      <th>2</th>\n",
              "      <td>1003</td>\n",
              "      <td>U003</td>\n",
              "      <td>2024-12-02</td>\n",
              "      <td>Dinner</td>\n",
              "      <td>Grilled Chicken</td>\n",
              "      <td>Canceled</td>\n",
              "      <td>12.5</td>\n",
              "      <td>Night</td>\n",
              "      <td>4.0</td>\n",
              "      <td>S003</td>\n",
              "      <td>...</td>\n",
              "      <td>555-123-4567</td>\n",
              "      <td>charlie@email.com</td>\n",
              "      <td>Breakfast</td>\n",
              "      <td>15</td>\n",
              "      <td>Grilled Chicken</td>\n",
              "      <td>Dinner</td>\n",
              "      <td>2024-12-02 19:30:00</td>\n",
              "      <td>2024-12-02 20:10:00</td>\n",
              "      <td>40</td>\n",
              "      <td>4.8</td>\n",
              "    </tr>\n",
              "    <tr>\n",
              "      <th>3</th>\n",
              "      <td>1004</td>\n",
              "      <td>U001</td>\n",
              "      <td>2024-12-02</td>\n",
              "      <td>Breakfast</td>\n",
              "      <td>Pancakes</td>\n",
              "      <td>Completed</td>\n",
              "      <td>8.0</td>\n",
              "      <td>Morning</td>\n",
              "      <td>4.0</td>\n",
              "      <td>S004</td>\n",
              "      <td>...</td>\n",
              "      <td>123-456-7890</td>\n",
              "      <td>alice@email.com</td>\n",
              "      <td>Dinner</td>\n",
              "      <td>12</td>\n",
              "      <td>Pancakes</td>\n",
              "      <td>Breakfast</td>\n",
              "      <td>2024-12-02 07:30:00</td>\n",
              "      <td>2024-12-02 08:00:00</td>\n",
              "      <td>30</td>\n",
              "      <td>4.2</td>\n",
              "    </tr>\n",
              "    <tr>\n",
              "      <th>4</th>\n",
              "      <td>1005</td>\n",
              "      <td>U004</td>\n",
              "      <td>2024-12-03</td>\n",
              "      <td>Lunch</td>\n",
              "      <td>Caesar Salad</td>\n",
              "      <td>Completed</td>\n",
              "      <td>9.0</td>\n",
              "      <td>Day</td>\n",
              "      <td>4.0</td>\n",
              "      <td>S005</td>\n",
              "      <td>...</td>\n",
              "      <td>444-333-2222</td>\n",
              "      <td>david@email.com</td>\n",
              "      <td>Dinner</td>\n",
              "      <td>10</td>\n",
              "      <td>Caesar Salad</td>\n",
              "      <td>Lunch</td>\n",
              "      <td>2024-12-03 13:00:00</td>\n",
              "      <td>2024-12-03 13:15:00</td>\n",
              "      <td>15</td>\n",
              "      <td>4.7</td>\n",
              "    </tr>\n",
              "  </tbody>\n",
              "</table>\n",
              "<p>5 rows × 24 columns</p>\n",
              "</div>"
            ],
            "text/plain": [
              "   Order ID User ID Order Date Meal Type_x      Dish Name_x Order Status   \n",
              "0      1001    U001 2024-12-01      Dinner        Spaghetti    Completed  \\\n",
              "1      1002    U002 2024-12-01       Lunch     Caesar Salad    Completed   \n",
              "2      1003    U003 2024-12-02      Dinner  Grilled Chicken     Canceled   \n",
              "3      1004    U001 2024-12-02   Breakfast         Pancakes    Completed   \n",
              "4      1005    U004 2024-12-03       Lunch     Caesar Salad    Completed   \n",
              "\n",
              "   Amount (USD) Time of Day  Rating Session ID  ...         Phone   \n",
              "0          15.0       Night     5.0       S001  ...  123-456-7890  \\\n",
              "1          10.0         Day     4.0       S002  ...  987-654-3210   \n",
              "2          12.5       Night     4.0       S003  ...  555-123-4567   \n",
              "3           8.0     Morning     4.0       S004  ...  123-456-7890   \n",
              "4           9.0         Day     4.0       S005  ...  444-333-2222   \n",
              "\n",
              "               Email Favorite Meal Total Orders      Dish Name_y Meal Type_y   \n",
              "0    alice@email.com        Dinner           12        Spaghetti      Dinner  \\\n",
              "1      bob@email.com         Lunch            8     Caesar Salad       Lunch   \n",
              "2  charlie@email.com     Breakfast           15  Grilled Chicken      Dinner   \n",
              "3    alice@email.com        Dinner           12         Pancakes   Breakfast   \n",
              "4    david@email.com        Dinner           10     Caesar Salad       Lunch   \n",
              "\n",
              "        Session Start         Session End Duration (mins) Session Rating  \n",
              "0 2024-12-01 19:00:00 2024-12-01 19:30:00              30            4.5  \n",
              "1 2024-12-01 12:00:00 2024-12-01 12:20:00              20            4.0  \n",
              "2 2024-12-02 19:30:00 2024-12-02 20:10:00              40            4.8  \n",
              "3 2024-12-02 07:30:00 2024-12-02 08:00:00              30            4.2  \n",
              "4 2024-12-03 13:00:00 2024-12-03 13:15:00              15            4.7  \n",
              "\n",
              "[5 rows x 24 columns]"
            ]
          },
          "execution_count": 69,
          "metadata": {},
          "output_type": "execute_result"
        }
      ],
      "source": [
        "merged.head()"
      ]
    },
    {
      "cell_type": "code",
      "execution_count": 70,
      "metadata": {
        "colab": {
          "base_uri": "https://localhost:8080/",
          "height": 0
        },
        "id": "FIkcmj34wBNx",
        "outputId": "d3c87a76-e333-487b-f5ed-cf328f5c1ed1"
      },
      "outputs": [
        {
          "data": {
            "text/plain": [
              "Index(['Order ID', 'User ID', 'Order Date', 'Meal Type_x', 'Dish Name_x',\n",
              "       'Order Status', 'Amount (USD)', 'Time of Day', 'Rating', 'Session ID',\n",
              "       'User Name', 'Age', 'Location', 'Registration Date', 'Phone', 'Email',\n",
              "       'Favorite Meal', 'Total Orders', 'Dish Name_y', 'Meal Type_y',\n",
              "       'Session Start', 'Session End', 'Duration (mins)', 'Session Rating'],\n",
              "      dtype='object')"
            ]
          },
          "execution_count": 70,
          "metadata": {},
          "output_type": "execute_result"
        }
      ],
      "source": [
        "merged.columns"
      ]
    },
    {
      "cell_type": "code",
      "execution_count": 71,
      "metadata": {
        "colab": {
          "base_uri": "https://localhost:8080/",
          "height": 0
        },
        "id": "zCOO0Z2HwBNx",
        "outputId": "e3e4e5de-1a04-4701-b59a-d0758ba28c94"
      },
      "outputs": [
        {
          "name": "stdout",
          "output_type": "stream",
          "text": [
            "<class 'pandas.core.frame.DataFrame'>\n",
            "RangeIndex: 16 entries, 0 to 15\n",
            "Data columns (total 24 columns):\n",
            " #   Column             Non-Null Count  Dtype         \n",
            "---  ------             --------------  -----         \n",
            " 0   Order ID           16 non-null     int64         \n",
            " 1   User ID            16 non-null     object        \n",
            " 2   Order Date         16 non-null     datetime64[ns]\n",
            " 3   Meal Type_x        16 non-null     object        \n",
            " 4   Dish Name_x        16 non-null     object        \n",
            " 5   Order Status       16 non-null     object        \n",
            " 6   Amount (USD)       16 non-null     float64       \n",
            " 7   Time of Day        16 non-null     object        \n",
            " 8   Rating             16 non-null     float64       \n",
            " 9   Session ID         16 non-null     object        \n",
            " 10  User Name          16 non-null     object        \n",
            " 11  Age                16 non-null     int64         \n",
            " 12  Location           16 non-null     object        \n",
            " 13  Registration Date  16 non-null     datetime64[ns]\n",
            " 14  Phone              16 non-null     object        \n",
            " 15  Email              16 non-null     object        \n",
            " 16  Favorite Meal      16 non-null     object        \n",
            " 17  Total Orders       16 non-null     int64         \n",
            " 18  Dish Name_y        16 non-null     object        \n",
            " 19  Meal Type_y        16 non-null     object        \n",
            " 20  Session Start      16 non-null     datetime64[ns]\n",
            " 21  Session End        16 non-null     datetime64[ns]\n",
            " 22  Duration (mins)    16 non-null     int64         \n",
            " 23  Session Rating     16 non-null     float64       \n",
            "dtypes: datetime64[ns](4), float64(3), int64(4), object(13)\n",
            "memory usage: 3.1+ KB\n"
          ]
        }
      ],
      "source": [
        "merged.info()"
      ]
    },
    {
      "cell_type": "code",
      "execution_count": 72,
      "metadata": {
        "colab": {
          "base_uri": "https://localhost:8080/",
          "height": 0
        },
        "id": "3Ih_mV4DwBNx",
        "outputId": "8ddffd24-0671-4b1f-c149-d88599342986"
      },
      "outputs": [
        {
          "data": {
            "text/plain": [
              "(16, 24)"
            ]
          },
          "execution_count": 72,
          "metadata": {},
          "output_type": "execute_result"
        }
      ],
      "source": [
        "merged.shape"
      ]
    },
    {
      "cell_type": "code",
      "execution_count": 73,
      "metadata": {
        "colab": {
          "base_uri": "https://localhost:8080/",
          "height": 836
        },
        "id": "r57prlnlwBNx",
        "outputId": "d27700f8-5c5f-4c65-80ab-a67ef884aa78"
      },
      "outputs": [
        {
          "data": {
            "text/plain": [
              "Order ID             16\n",
              "User ID               8\n",
              "Order Date            8\n",
              "Meal Type_x           3\n",
              "Dish Name_x           6\n",
              "Order Status          2\n",
              "Amount (USD)         12\n",
              "Time of Day           3\n",
              "Rating                2\n",
              "Session ID           16\n",
              "User Name             8\n",
              "Age                   8\n",
              "Location              8\n",
              "Registration Date     8\n",
              "Phone                 8\n",
              "Email                 8\n",
              "Favorite Meal         3\n",
              "Total Orders          8\n",
              "Dish Name_y           6\n",
              "Meal Type_y           3\n",
              "Session Start        16\n",
              "Session End          16\n",
              "Duration (mins)       6\n",
              "Session Rating       11\n",
              "dtype: int64"
            ]
          },
          "execution_count": 73,
          "metadata": {},
          "output_type": "execute_result"
        }
      ],
      "source": [
        "merged.nunique()"
      ]
    },
    {
      "cell_type": "code",
      "execution_count": 74,
      "metadata": {
        "colab": {
          "base_uri": "https://localhost:8080/",
          "height": 0
        },
        "id": "2ZRm49jUwBNx",
        "outputId": "eabe0f0a-a2d8-400a-b134-7d180095f875"
      },
      "outputs": [
        {
          "data": {
            "text/plain": [
              "0"
            ]
          },
          "execution_count": 74,
          "metadata": {},
          "output_type": "execute_result"
        }
      ],
      "source": [
        "merged.duplicated().sum()"
      ]
    },
    {
      "cell_type": "code",
      "execution_count": 75,
      "metadata": {
        "id": "HUtQsI7dwBNx"
      },
      "outputs": [],
      "source": [
        "#Rename columns for clarity during\n",
        "merged.rename(columns={'Dish Name_x': 'Ordered Dish Name'}, inplace=True)\n",
        "merged.rename(columns={'Dish Name_y': 'Cooked Dish Name'}, inplace=True)"
      ]
    },
    {
      "cell_type": "code",
      "execution_count": 76,
      "metadata": {
        "id": "EdDkkuwcwBNx"
      },
      "outputs": [],
      "source": [
        "merged.rename(columns={'Meal Type_x': 'Ordered Meal Type'}, inplace=True)\n",
        "merged.rename(columns={'Meal Type_y': 'Cooked Meal Type'}, inplace=True)"
      ]
    },
    {
      "cell_type": "code",
      "execution_count": 77,
      "metadata": {
        "colab": {
          "base_uri": "https://localhost:8080/",
          "height": 463
        },
        "id": "fiqBm9I8wBNy",
        "outputId": "3ec8ef1b-7d4a-4e1d-806d-2bf5b2dc34ef"
      },
      "outputs": [
        {
          "data": {
            "text/html": [
              "<div>\n",
              "<style scoped>\n",
              "    .dataframe tbody tr th:only-of-type {\n",
              "        vertical-align: middle;\n",
              "    }\n",
              "\n",
              "    .dataframe tbody tr th {\n",
              "        vertical-align: top;\n",
              "    }\n",
              "\n",
              "    .dataframe thead th {\n",
              "        text-align: right;\n",
              "    }\n",
              "</style>\n",
              "<table border=\"1\" class=\"dataframe\">\n",
              "  <thead>\n",
              "    <tr style=\"text-align: right;\">\n",
              "      <th></th>\n",
              "      <th>Order ID</th>\n",
              "      <th>User ID</th>\n",
              "      <th>Order Date</th>\n",
              "      <th>Ordered Meal Type</th>\n",
              "      <th>Ordered Dish Name</th>\n",
              "      <th>Order Status</th>\n",
              "      <th>Amount (USD)</th>\n",
              "      <th>Time of Day</th>\n",
              "      <th>Rating</th>\n",
              "      <th>Session ID</th>\n",
              "      <th>...</th>\n",
              "      <th>Phone</th>\n",
              "      <th>Email</th>\n",
              "      <th>Favorite Meal</th>\n",
              "      <th>Total Orders</th>\n",
              "      <th>Cooked Dish Name</th>\n",
              "      <th>Cooked Meal Type</th>\n",
              "      <th>Session Start</th>\n",
              "      <th>Session End</th>\n",
              "      <th>Duration (mins)</th>\n",
              "      <th>Session Rating</th>\n",
              "    </tr>\n",
              "  </thead>\n",
              "  <tbody>\n",
              "    <tr>\n",
              "      <th>0</th>\n",
              "      <td>1001</td>\n",
              "      <td>U001</td>\n",
              "      <td>2024-12-01</td>\n",
              "      <td>Dinner</td>\n",
              "      <td>Spaghetti</td>\n",
              "      <td>Completed</td>\n",
              "      <td>15.0</td>\n",
              "      <td>Night</td>\n",
              "      <td>5.0</td>\n",
              "      <td>S001</td>\n",
              "      <td>...</td>\n",
              "      <td>123-456-7890</td>\n",
              "      <td>alice@email.com</td>\n",
              "      <td>Dinner</td>\n",
              "      <td>12</td>\n",
              "      <td>Spaghetti</td>\n",
              "      <td>Dinner</td>\n",
              "      <td>2024-12-01 19:00:00</td>\n",
              "      <td>2024-12-01 19:30:00</td>\n",
              "      <td>30</td>\n",
              "      <td>4.5</td>\n",
              "    </tr>\n",
              "    <tr>\n",
              "      <th>1</th>\n",
              "      <td>1002</td>\n",
              "      <td>U002</td>\n",
              "      <td>2024-12-01</td>\n",
              "      <td>Lunch</td>\n",
              "      <td>Caesar Salad</td>\n",
              "      <td>Completed</td>\n",
              "      <td>10.0</td>\n",
              "      <td>Day</td>\n",
              "      <td>4.0</td>\n",
              "      <td>S002</td>\n",
              "      <td>...</td>\n",
              "      <td>987-654-3210</td>\n",
              "      <td>bob@email.com</td>\n",
              "      <td>Lunch</td>\n",
              "      <td>8</td>\n",
              "      <td>Caesar Salad</td>\n",
              "      <td>Lunch</td>\n",
              "      <td>2024-12-01 12:00:00</td>\n",
              "      <td>2024-12-01 12:20:00</td>\n",
              "      <td>20</td>\n",
              "      <td>4.0</td>\n",
              "    </tr>\n",
              "    <tr>\n",
              "      <th>2</th>\n",
              "      <td>1003</td>\n",
              "      <td>U003</td>\n",
              "      <td>2024-12-02</td>\n",
              "      <td>Dinner</td>\n",
              "      <td>Grilled Chicken</td>\n",
              "      <td>Canceled</td>\n",
              "      <td>12.5</td>\n",
              "      <td>Night</td>\n",
              "      <td>4.0</td>\n",
              "      <td>S003</td>\n",
              "      <td>...</td>\n",
              "      <td>555-123-4567</td>\n",
              "      <td>charlie@email.com</td>\n",
              "      <td>Breakfast</td>\n",
              "      <td>15</td>\n",
              "      <td>Grilled Chicken</td>\n",
              "      <td>Dinner</td>\n",
              "      <td>2024-12-02 19:30:00</td>\n",
              "      <td>2024-12-02 20:10:00</td>\n",
              "      <td>40</td>\n",
              "      <td>4.8</td>\n",
              "    </tr>\n",
              "    <tr>\n",
              "      <th>3</th>\n",
              "      <td>1004</td>\n",
              "      <td>U001</td>\n",
              "      <td>2024-12-02</td>\n",
              "      <td>Breakfast</td>\n",
              "      <td>Pancakes</td>\n",
              "      <td>Completed</td>\n",
              "      <td>8.0</td>\n",
              "      <td>Morning</td>\n",
              "      <td>4.0</td>\n",
              "      <td>S004</td>\n",
              "      <td>...</td>\n",
              "      <td>123-456-7890</td>\n",
              "      <td>alice@email.com</td>\n",
              "      <td>Dinner</td>\n",
              "      <td>12</td>\n",
              "      <td>Pancakes</td>\n",
              "      <td>Breakfast</td>\n",
              "      <td>2024-12-02 07:30:00</td>\n",
              "      <td>2024-12-02 08:00:00</td>\n",
              "      <td>30</td>\n",
              "      <td>4.2</td>\n",
              "    </tr>\n",
              "    <tr>\n",
              "      <th>4</th>\n",
              "      <td>1005</td>\n",
              "      <td>U004</td>\n",
              "      <td>2024-12-03</td>\n",
              "      <td>Lunch</td>\n",
              "      <td>Caesar Salad</td>\n",
              "      <td>Completed</td>\n",
              "      <td>9.0</td>\n",
              "      <td>Day</td>\n",
              "      <td>4.0</td>\n",
              "      <td>S005</td>\n",
              "      <td>...</td>\n",
              "      <td>444-333-2222</td>\n",
              "      <td>david@email.com</td>\n",
              "      <td>Dinner</td>\n",
              "      <td>10</td>\n",
              "      <td>Caesar Salad</td>\n",
              "      <td>Lunch</td>\n",
              "      <td>2024-12-03 13:00:00</td>\n",
              "      <td>2024-12-03 13:15:00</td>\n",
              "      <td>15</td>\n",
              "      <td>4.7</td>\n",
              "    </tr>\n",
              "  </tbody>\n",
              "</table>\n",
              "<p>5 rows × 24 columns</p>\n",
              "</div>"
            ],
            "text/plain": [
              "   Order ID User ID Order Date Ordered Meal Type Ordered Dish Name   \n",
              "0      1001    U001 2024-12-01            Dinner         Spaghetti  \\\n",
              "1      1002    U002 2024-12-01             Lunch      Caesar Salad   \n",
              "2      1003    U003 2024-12-02            Dinner   Grilled Chicken   \n",
              "3      1004    U001 2024-12-02         Breakfast          Pancakes   \n",
              "4      1005    U004 2024-12-03             Lunch      Caesar Salad   \n",
              "\n",
              "  Order Status  Amount (USD) Time of Day  Rating Session ID  ...   \n",
              "0    Completed          15.0       Night     5.0       S001  ...  \\\n",
              "1    Completed          10.0         Day     4.0       S002  ...   \n",
              "2     Canceled          12.5       Night     4.0       S003  ...   \n",
              "3    Completed           8.0     Morning     4.0       S004  ...   \n",
              "4    Completed           9.0         Day     4.0       S005  ...   \n",
              "\n",
              "          Phone              Email Favorite Meal Total Orders   \n",
              "0  123-456-7890    alice@email.com        Dinner           12  \\\n",
              "1  987-654-3210      bob@email.com         Lunch            8   \n",
              "2  555-123-4567  charlie@email.com     Breakfast           15   \n",
              "3  123-456-7890    alice@email.com        Dinner           12   \n",
              "4  444-333-2222    david@email.com        Dinner           10   \n",
              "\n",
              "  Cooked Dish Name Cooked Meal Type       Session Start         Session End   \n",
              "0        Spaghetti           Dinner 2024-12-01 19:00:00 2024-12-01 19:30:00  \\\n",
              "1     Caesar Salad            Lunch 2024-12-01 12:00:00 2024-12-01 12:20:00   \n",
              "2  Grilled Chicken           Dinner 2024-12-02 19:30:00 2024-12-02 20:10:00   \n",
              "3         Pancakes        Breakfast 2024-12-02 07:30:00 2024-12-02 08:00:00   \n",
              "4     Caesar Salad            Lunch 2024-12-03 13:00:00 2024-12-03 13:15:00   \n",
              "\n",
              "  Duration (mins) Session Rating  \n",
              "0              30            4.5  \n",
              "1              20            4.0  \n",
              "2              40            4.8  \n",
              "3              30            4.2  \n",
              "4              15            4.7  \n",
              "\n",
              "[5 rows x 24 columns]"
            ]
          },
          "execution_count": 77,
          "metadata": {},
          "output_type": "execute_result"
        }
      ],
      "source": [
        "merged.head()"
      ]
    },
    {
      "cell_type": "code",
      "execution_count": 78,
      "metadata": {
        "id": "OerJ94L2wBNy"
      },
      "outputs": [],
      "source": [
        "#Analyze the relationship between cooking sessions and orders\n",
        "cooking_order_correlation = merged.groupby('Ordered Dish Name')[['Session Rating', 'Rating']].mean()"
      ]
    },
    {
      "cell_type": "code",
      "execution_count": 79,
      "metadata": {
        "colab": {
          "base_uri": "https://localhost:8080/",
          "height": 269
        },
        "id": "R7KoZXN1wBNy",
        "outputId": "2972e4fb-914c-49c5-80bb-60cd41f5d1f5"
      },
      "outputs": [
        {
          "data": {
            "text/html": [
              "<div>\n",
              "<style scoped>\n",
              "    .dataframe tbody tr th:only-of-type {\n",
              "        vertical-align: middle;\n",
              "    }\n",
              "\n",
              "    .dataframe tbody tr th {\n",
              "        vertical-align: top;\n",
              "    }\n",
              "\n",
              "    .dataframe thead th {\n",
              "        text-align: right;\n",
              "    }\n",
              "</style>\n",
              "<table border=\"1\" class=\"dataframe\">\n",
              "  <thead>\n",
              "    <tr style=\"text-align: right;\">\n",
              "      <th></th>\n",
              "      <th>Session Rating</th>\n",
              "      <th>Rating</th>\n",
              "    </tr>\n",
              "    <tr>\n",
              "      <th>Ordered Dish Name</th>\n",
              "      <th></th>\n",
              "      <th></th>\n",
              "    </tr>\n",
              "  </thead>\n",
              "  <tbody>\n",
              "    <tr>\n",
              "      <th>Caesar Salad</th>\n",
              "      <td>4.366667</td>\n",
              "      <td>4.0</td>\n",
              "    </tr>\n",
              "    <tr>\n",
              "      <th>Grilled Chicken</th>\n",
              "      <td>4.775000</td>\n",
              "      <td>4.5</td>\n",
              "    </tr>\n",
              "    <tr>\n",
              "      <th>Oatmeal</th>\n",
              "      <td>4.100000</td>\n",
              "      <td>4.0</td>\n",
              "    </tr>\n",
              "    <tr>\n",
              "      <th>Pancakes</th>\n",
              "      <td>4.400000</td>\n",
              "      <td>4.0</td>\n",
              "    </tr>\n",
              "    <tr>\n",
              "      <th>Spaghetti</th>\n",
              "      <td>4.625000</td>\n",
              "      <td>4.5</td>\n",
              "    </tr>\n",
              "    <tr>\n",
              "      <th>Veggie Burger</th>\n",
              "      <td>4.350000</td>\n",
              "      <td>4.0</td>\n",
              "    </tr>\n",
              "  </tbody>\n",
              "</table>\n",
              "</div>"
            ],
            "text/plain": [
              "                   Session Rating  Rating\n",
              "Ordered Dish Name                        \n",
              "Caesar Salad             4.366667     4.0\n",
              "Grilled Chicken          4.775000     4.5\n",
              "Oatmeal                  4.100000     4.0\n",
              "Pancakes                 4.400000     4.0\n",
              "Spaghetti                4.625000     4.5\n",
              "Veggie Burger            4.350000     4.0"
            ]
          },
          "execution_count": 79,
          "metadata": {},
          "output_type": "execute_result"
        }
      ],
      "source": [
        "cooking_order_correlation"
      ]
    },
    {
      "cell_type": "code",
      "execution_count": 80,
      "metadata": {
        "id": "kzNx2pjLwBNy"
      },
      "outputs": [],
      "source": [
        "#Identify popular dishes\n",
        "popular_dishes = merged['Ordered Dish Name'].value_counts()"
      ]
    },
    {
      "cell_type": "code",
      "execution_count": 81,
      "metadata": {
        "colab": {
          "base_uri": "https://localhost:8080/",
          "height": 303
        },
        "id": "X8XmTOHxwBNy",
        "outputId": "276c80d3-f7de-44d5-84eb-9bca09f935f5"
      },
      "outputs": [
        {
          "data": {
            "text/plain": [
              "Ordered Dish Name\n",
              "Spaghetti          4\n",
              "Grilled Chicken    4\n",
              "Caesar Salad       3\n",
              "Pancakes           2\n",
              "Veggie Burger      2\n",
              "Oatmeal            1\n",
              "Name: count, dtype: int64"
            ]
          },
          "execution_count": 81,
          "metadata": {},
          "output_type": "execute_result"
        }
      ],
      "source": [
        "popular_dishes"
      ]
    },
    {
      "cell_type": "markdown",
      "metadata": {
        "id": "FDJcCFeQwBNy"
      },
      "source": [
        "###### Spaghetti and Grilled Chicken are mostly ordered and Oatmeal are least ordered dish."
      ]
    },
    {
      "cell_type": "code",
      "execution_count": 82,
      "metadata": {
        "id": "_0HrHl8hwBNy"
      },
      "outputs": [],
      "source": [
        "#Analyze orders by age\n",
        "orders_by_age = merged.groupby('Age')['Order ID'].count()"
      ]
    },
    {
      "cell_type": "code",
      "execution_count": 83,
      "metadata": {
        "colab": {
          "base_uri": "https://localhost:8080/",
          "height": 366
        },
        "id": "WmFBRTgiwBNy",
        "outputId": "c275b019-9c12-414c-ebd8-42d5df8e6e85"
      },
      "outputs": [
        {
          "data": {
            "text/plain": [
              "Age\n",
              "25    1\n",
              "27    2\n",
              "28    3\n",
              "30    2\n",
              "31    1\n",
              "35    3\n",
              "38    1\n",
              "42    3\n",
              "Name: Order ID, dtype: int64"
            ]
          },
          "execution_count": 83,
          "metadata": {},
          "output_type": "execute_result"
        }
      ],
      "source": [
        "orders_by_age"
      ]
    },
    {
      "cell_type": "markdown",
      "metadata": {
        "id": "-YZGlE3xwBNy"
      },
      "source": [
        "##### All the orders are done by the age group of 25-42."
      ]
    },
    {
      "cell_type": "code",
      "execution_count": 84,
      "metadata": {
        "id": "F6ihPPYTwBNy"
      },
      "outputs": [],
      "source": [
        "#Analyze orders by location\n",
        "orders_by_location = merged['Location'].value_counts()"
      ]
    },
    {
      "cell_type": "code",
      "execution_count": 85,
      "metadata": {
        "colab": {
          "base_uri": "https://localhost:8080/",
          "height": 366
        },
        "id": "CEHfF4zEwBNy",
        "outputId": "bb72b95b-bb5d-4a9c-cbe6-620c17962169"
      },
      "outputs": [
        {
          "data": {
            "text/plain": [
              "Location\n",
              "New York         3\n",
              "Los Angeles      3\n",
              "Chicago          3\n",
              "San Francisco    2\n",
              "Seattle          2\n",
              "Austin           1\n",
              "Boston           1\n",
              "Miami            1\n",
              "Name: count, dtype: int64"
            ]
          },
          "execution_count": 85,
          "metadata": {},
          "output_type": "execute_result"
        }
      ],
      "source": [
        "orders_by_location"
      ]
    },
    {
      "cell_type": "markdown",
      "metadata": {
        "id": "UimDPeCywBNz"
      },
      "source": [
        "##### Mostly orders came from New York, Los Angeles and Chicago locations."
      ]
    },
    {
      "cell_type": "code",
      "execution_count": 86,
      "metadata": {
        "colab": {
          "base_uri": "https://localhost:8080/",
          "height": 634
        },
        "id": "2QR-3fOswBNz",
        "outputId": "f1f8d46d-1572-45bc-e427-550c12b6785b"
      },
      "outputs": [
        {
          "data": {
            "image/png": "[encoded data removed]",
            "text/plain": [
              "<Figure size 1000x600 with 1 Axes>"
            ]
          },
          "metadata": {},
          "output_type": "display_data"
        }
      ],
      "source": [
        "#Bar plot for popular dishes\n",
        "plt.figure(figsize=(10, 6))\n",
        "sns.barplot(x=popular_dishes.index, y=popular_dishes.values)\n",
        "plt.title('Most Popular Dishes')\n",
        "plt.xticks(rotation=45)\n",
        "plt.xlabel('Dish Name')\n",
        "plt.ylabel('Number of Orders')\n",
        "plt.show()"
      ]
    },
    {
      "cell_type": "markdown",
      "metadata": {
        "id": "bPrRcUIUwBNz"
      },
      "source": [
        "###### Spaghetti and Grilled Chicken are mostly ordered and Oatmeal are least ordered dish."
      ]
    },
    {
      "cell_type": "code",
      "execution_count": 87,
      "metadata": {
        "colab": {
          "base_uri": "https://localhost:8080/",
          "height": 564
        },
        "id": "dXhAkoIqwBNz",
        "outputId": "3077ad9f-43ce-4584-a7b4-4197e50cb6ef"
      },
      "outputs": [
        {
          "data": {
            "image/png": "[encoded data removed]",
            "text/plain": [
              "<Figure size 800x600 with 1 Axes>"
            ]
          },
          "metadata": {},
          "output_type": "display_data"
        }
      ],
      "source": [
        "#Scatter plot for ratings vs session duration\n",
        "plt.figure(figsize=(8, 6))\n",
        "sns.scatterplot(data=merged, x='Duration (mins)', y='Rating', hue='Ordered Meal Type')\n",
        "plt.title('Rating vs. Cooking Session Duration')\n",
        "plt.xlabel('Duration (mins)')\n",
        "plt.ylabel('Rating')\n",
        "plt.show()"
      ]
    },
    {
      "cell_type": "markdown",
      "metadata": {
        "id": "TEiBdsXkwBNz"
      },
      "source": [
        "##### Most of the Meal Types are rated as 4.0. Only Dinner has been rater 5.0 rating."
      ]
    },
    {
      "cell_type": "code",
      "execution_count": 88,
      "metadata": {
        "id": "tEwOOQdKwBNz"
      },
      "outputs": [],
      "source": [
        "#Extract month from 'Order Date'\n",
        "order_details['Order Month'] = pd.to_datetime(order_details['Order Date']).dt.month"
      ]
    },
    {
      "cell_type": "code",
      "execution_count": 89,
      "metadata": {
        "id": "bU2ewqnmwBN3"
      },
      "outputs": [],
      "source": [
        "#Group orders by month\n",
        "orders_by_month = order_details.groupby('Order Month')['Order ID'].count()"
      ]
    },
    {
      "cell_type": "code",
      "execution_count": 90,
      "metadata": {
        "colab": {
          "base_uri": "https://localhost:8080/",
          "height": 146
        },
        "id": "EnJrkXKWwBN4",
        "outputId": "0afd77c8-d244-41e2-d4b4-b1a44c29ce67"
      },
      "outputs": [
        {
          "data": {
            "text/plain": [
              "Order Month\n",
              "12    16\n",
              "Name: Order ID, dtype: int64"
            ]
          },
          "execution_count": 90,
          "metadata": {},
          "output_type": "execute_result"
        }
      ],
      "source": [
        "orders_by_month"
      ]
    },
    {
      "cell_type": "code",
      "execution_count": 91,
      "metadata": {
        "colab": {
          "base_uri": "https://localhost:8080/",
          "height": 564
        },
        "id": "9fE_KXqbwBN4",
        "outputId": "5f882fd5-0ae3-46cc-8d7f-709dbe3be7fe"
      },
      "outputs": [
        {
          "data": {
            "image/png": "[encoded data removed]",
            "text/plain": [
              "<Figure size 1000x600 with 1 Axes>"
            ]
          },
          "metadata": {},
          "output_type": "display_data"
        }
      ],
      "source": [
        "plt.figure(figsize=(10, 6))\n",
        "plt.plot(orders_by_month.index, orders_by_month.values, marker='o')\n",
        "plt.title('Orders Trend by Month')\n",
        "plt.xlabel('Month')\n",
        "plt.ylabel('Number of Orders')\n",
        "plt.xticks(range(1, 13))\n",
        "plt.grid()\n",
        "plt.show()"
      ]
    },
    {
      "cell_type": "markdown",
      "metadata": {
        "id": "Cgm-X7QqwBN4"
      },
      "source": [
        "##### All the orders and sessions made in the month December."
      ]
    },
    {
      "cell_type": "code",
      "execution_count": 92,
      "metadata": {
        "id": "LwaNTmXnwBN4"
      },
      "outputs": [],
      "source": [
        "#Compare average session duration for completed vs. canceled orders\n",
        "order_status_duration = merged.groupby('Order Status')['Duration (mins)'].mean()"
      ]
    },
    {
      "cell_type": "code",
      "execution_count": 93,
      "metadata": {
        "colab": {
          "base_uri": "https://localhost:8080/",
          "height": 178
        },
        "id": "nb_DEC6SwBN4",
        "outputId": "5debebe6-423c-4152-e296-4448b3036296"
      },
      "outputs": [
        {
          "data": {
            "text/plain": [
              "Order Status\n",
              "Canceled     30.000000\n",
              "Completed    30.357143\n",
              "Name: Duration (mins), dtype: float64"
            ]
          },
          "execution_count": 93,
          "metadata": {},
          "output_type": "execute_result"
        }
      ],
      "source": [
        "order_status_duration"
      ]
    },
    {
      "cell_type": "code",
      "execution_count": 94,
      "metadata": {
        "colab": {
          "base_uri": "https://localhost:8080/",
          "height": 626
        },
        "id": "4N4p-wwiwBN4",
        "outputId": "b0c53a06-23a2-4c28-9c44-d0189381c782"
      },
      "outputs": [
        {
          "data": {
            "image/png": "[encoded data removed]",
            "text/plain": [
              "<Figure size 800x600 with 1 Axes>"
            ]
          },
          "metadata": {},
          "output_type": "display_data"
        }
      ],
      "source": [
        "#Bar Plot\n",
        "plt.figure(figsize=(8, 6))\n",
        "order_status_duration.plot(kind='bar', color=['green', 'red'])\n",
        "plt.title('Average Session Duration by Order Status')\n",
        "plt.xlabel('Order Status')\n",
        "plt.ylabel('Average Duration (mins)')\n",
        "plt.show()\n"
      ]
    },
    {
      "cell_type": "markdown",
      "metadata": {
        "id": "MbZHkdnYwBN4"
      },
      "source": [
        "##### There is almost similar session duration for both canceled and completed duration."
      ]
    },
    {
      "cell_type": "code",
      "execution_count": 95,
      "metadata": {
        "id": "I1DS4AQtwBN4"
      },
      "outputs": [],
      "source": [
        "#Group by Favorite Meal and count orders\n",
        "favorite_meal_orders = merged.groupby('Favorite Meal')['Order ID'].count()"
      ]
    },
    {
      "cell_type": "code",
      "execution_count": 96,
      "metadata": {
        "colab": {
          "base_uri": "https://localhost:8080/",
          "height": 209
        },
        "id": "Uwc4LfPKwBN4",
        "outputId": "73a9ea14-9a25-453c-d6e4-3feed72b80a3"
      },
      "outputs": [
        {
          "data": {
            "text/plain": [
              "Favorite Meal\n",
              "Breakfast    4\n",
              "Dinner       7\n",
              "Lunch        5\n",
              "Name: Order ID, dtype: int64"
            ]
          },
          "execution_count": 96,
          "metadata": {},
          "output_type": "execute_result"
        }
      ],
      "source": [
        "favorite_meal_orders"
      ]
    },
    {
      "cell_type": "code",
      "execution_count": 97,
      "metadata": {
        "colab": {
          "base_uri": "https://localhost:8080/",
          "height": 564
        },
        "id": "Bdb_cRtLwBN5",
        "outputId": "896e79ff-c35d-4e6d-f4e7-151dcaf53cd9"
      },
      "outputs": [
        {
          "data": {
            "image/png": "[encoded data removed]",
            "text/plain": [
              "<Figure size 800x600 with 1 Axes>"
            ]
          },
          "metadata": {},
          "output_type": "display_data"
        }
      ],
      "source": [
        "#Plotting\n",
        "plt.figure(figsize=(8, 6))\n",
        "sns.barplot(x=favorite_meal_orders.index, y=favorite_meal_orders.values)\n",
        "plt.title('Order Count by Favorite Meal')\n",
        "plt.xlabel('Favorite Meal')\n",
        "plt.ylabel('Order Count')\n",
        "plt.show()"
      ]
    },
    {
      "cell_type": "markdown",
      "metadata": {
        "id": "8IZo0dR0wBN5"
      },
      "source": [
        "##### Out of all meal type peopla mostly prefered Dinner."
      ]
    },
    {
      "cell_type": "code",
      "execution_count": 98,
      "metadata": {
        "colab": {
          "base_uri": "https://localhost:8080/",
          "height": 564
        },
        "id": "EV8KZbkfwBN5",
        "outputId": "741983b9-a1c6-4456-bc75-c746c8ad1f30"
      },
      "outputs": [
        {
          "data": {
            "image/png": "[encoded data removed]",
            "text/plain": [
              "<Figure size 800x600 with 1 Axes>"
            ]
          },
          "metadata": {},
          "output_type": "display_data"
        }
      ],
      "source": [
        "#Plot the distribution of session ratings\n",
        "plt.figure(figsize=(8, 6))\n",
        "sns.histplot(merged['Session Rating'], kde=True, bins=10, color='purple')\n",
        "plt.title('Distribution of Session Ratings')\n",
        "plt.xlabel('Session Rating')\n",
        "plt.ylabel('Frequency')\n",
        "plt.show()"
      ]
    },
    {
      "cell_type": "markdown",
      "metadata": {
        "id": "9Aya4mKvwBN5"
      },
      "source": [
        "##### Mostly rating lies between 4-5."
      ]
    },
    {
      "cell_type": "code",
      "execution_count": 99,
      "metadata": {
        "id": "VRXN7pg1wBN5"
      },
      "outputs": [],
      "source": [
        "#Calculate total revenue by meal type\n",
        "revenue_by_meal = merged.groupby('Ordered Meal Type')['Amount (USD)'].sum()"
      ]
    },
    {
      "cell_type": "code",
      "execution_count": 100,
      "metadata": {
        "colab": {
          "base_uri": "https://localhost:8080/",
          "height": 675
        },
        "id": "jKBx94CgwBN5",
        "outputId": "b2c1bc7b-0884-4568-d8f8-d23f230f4854"
      },
      "outputs": [
        {
          "data": {
            "image/png": "[encoded data removed]",
            "text/plain": [
              "<Figure size 800x800 with 1 Axes>"
            ]
          },
          "metadata": {},
          "output_type": "display_data"
        }
      ],
      "source": [
        "#Pie chart\n",
        "plt.figure(figsize=(8, 8))\n",
        "revenue_by_meal.plot(kind='pie', autopct='%1.1f%%')\n",
        "plt.title('Revenue Distribution by Meal Type')\n",
        "plt.show()\n"
      ]
    },
    {
      "cell_type": "markdown",
      "metadata": {
        "id": "S_jGQF5bwBN5"
      },
      "source": [
        "##### Revenue wise Dinner creates more revenue than Lunch and Breakfast."
      ]
    },
    {
      "cell_type": "code",
      "execution_count": 101,
      "metadata": {
        "id": "7uPq_STKwBN5"
      },
      "outputs": [],
      "source": [
        "#Create age bins\n",
        "bins = [18, 25, 35, 45, 55, 65]\n",
        "labels = ['18-25', '26-35', '36-45', '46-55', '56-65']\n",
        "user_details['Age Group'] = pd.cut(user_details['Age'], bins=bins, labels=labels, right=False)\n",
        "\n",
        "#Count users in each age group\n",
        "age_group_distribution = user_details['Age Group'].value_counts()"
      ]
    },
    {
      "cell_type": "code",
      "execution_count": 102,
      "metadata": {
        "colab": {
          "base_uri": "https://localhost:8080/",
          "height": 671
        },
        "id": "XYRlfa_1wBN5",
        "outputId": "87a245c8-16ff-4aab-cc09-177f395059e5"
      },
      "outputs": [
        {
          "name": "stderr",
          "output_type": "stream",
          "text": [
            "C:\\Users\\Hp\\AppData\\Local\\Temp\\ipykernel_10276\\2044107718.py:3: FutureWarning: \n",
            "\n",
            "Passing `palette` without assigning `hue` is deprecated and will be removed in v0.14.0. Assign the `x` variable to `hue` and set `legend=False` for the same effect.\n",
            "\n",
            "  sns.barplot(x=age_group_distribution.index, y=age_group_distribution.values, palette=\"viridis\")\n"
          ]
        },
        {
          "data": {
            "image/png": "[encoded data removed]",
            "text/plain": [
              "<Figure size 800x600 with 1 Axes>"
            ]
          },
          "metadata": {},
          "output_type": "display_data"
        }
      ],
      "source": [
        "#Plot\n",
        "plt.figure(figsize=(8, 6))\n",
        "sns.barplot(x=age_group_distribution.index, y=age_group_distribution.values, palette=\"viridis\")\n",
        "plt.title('User Distribution by Age Group')\n",
        "plt.xlabel('Age Group')\n",
        "plt.ylabel('Number of Users')\n",
        "plt.show()\n"
      ]
    },
    {
      "cell_type": "markdown",
      "metadata": {
        "id": "xdvkAzd3wBN6"
      },
      "source": [
        "##### All the users are from the age group 26-45 and mostly are from 26-35 age group."
      ]
    },
    {
      "cell_type": "code",
      "execution_count": 103,
      "metadata": {
        "colab": {
          "base_uri": "https://localhost:8080/",
          "height": 564
        },
        "id": "bKBkMdGOwBN6",
        "outputId": "c184ab10-cb3c-41d8-b033-f5edec7d9885"
      },
      "outputs": [
        {
          "data": {
            "image/png": "[encoded data removed]",
            "text/plain": [
              "<Figure size 800x600 with 1 Axes>"
            ]
          },
          "metadata": {},
          "output_type": "display_data"
        }
      ],
      "source": [
        "#Scatter plot for ratings vs amount spent\n",
        "plt.figure(figsize=(8, 6))\n",
        "sns.scatterplot(data=merged, x='Rating', y='Amount (USD)', hue='Ordered Meal Type')\n",
        "plt.title('Rating vs. Amount Spent')\n",
        "plt.xlabel('Rating')\n",
        "plt.ylabel('Amount (USD)')\n",
        "plt.show()"
      ]
    },
    {
      "cell_type": "markdown",
      "metadata": {
        "id": "HDN3pch4wBN6"
      },
      "source": [
        "##### 5.0 rating generates more revenue in comparison of 4.0 rating."
      ]
    },
    {
      "cell_type": "code",
      "execution_count": 104,
      "metadata": {
        "id": "3KZuQUX0wBN6"
      },
      "outputs": [],
      "source": [
        "#Calculate total spending by user\n",
        "top_users = merged.groupby('User ID')['Amount (USD)'].sum().sort_values(ascending=False).head(10)"
      ]
    },
    {
      "cell_type": "code",
      "execution_count": 105,
      "metadata": {
        "colab": {
          "base_uri": "https://localhost:8080/",
          "height": 671
        },
        "id": "2KABGahtwBN6",
        "outputId": "a6db628a-6636-4535-8e59-189f7643fb68"
      },
      "outputs": [
        {
          "name": "stderr",
          "output_type": "stream",
          "text": [
            "C:\\Users\\Hp\\AppData\\Local\\Temp\\ipykernel_10276\\4105445534.py:3: FutureWarning: \n",
            "\n",
            "Passing `palette` without assigning `hue` is deprecated and will be removed in v0.14.0. Assign the `x` variable to `hue` and set `legend=False` for the same effect.\n",
            "\n",
            "  sns.barplot(x=top_users.index, y=top_users.values, palette=\"rocket\")\n"
          ]
        },
        {
          "data": {
            "image/png": "[encoded data removed]",
            "text/plain": [
              "<Figure size 1000x600 with 1 Axes>"
            ]
          },
          "metadata": {},
          "output_type": "display_data"
        }
      ],
      "source": [
        "#Plotting\n",
        "plt.figure(figsize=(10, 6))\n",
        "sns.barplot(x=top_users.index, y=top_users.values, palette=\"rocket\")\n",
        "plt.title('Users by Spending')\n",
        "plt.xlabel('User ID')\n",
        "plt.ylabel('Total Amount Spent (USD)')\n",
        "plt.show()\n"
      ]
    },
    {
      "cell_type": "markdown",
      "metadata": {
        "id": "r7O4lSA0wBN6"
      },
      "source": [
        "##### U001 spent more and U008 spent least amount."
      ]
    },
    {
      "cell_type": "markdown",
      "metadata": {},
      "source": [
        "Summary\n",
        "\n",
        "Popular Dishes:\n",
        "Certain dishes, such as Spaghetti, Caesar Salad, and Grilled Chicken, were ordered more frequently, indicating their popularity among users.\n",
        "\n",
        "Order Trends Over Time:\n",
        "Orders hit the maximum during specific months, pointed to possible preference for different seasons.\n",
        "\n",
        "Session Duration and Order Completion:\n",
        "Longer cooking sessions correlated with a higher likelihood of completed orders.\n",
        "\n",
        "Revenue Distribution:\n",
        "Dinner contributed the most revenue, followed by lunch and breakfast. This indicates that users are more willing to spend on evening meals.\n",
        "\n",
        "Demographics:\n",
        "The majority of the clients were aged between 26 and 35, meaning that they had a big number of orders with greater revenue.\n",
        "\n",
        "Location analysis indicated that urban areas such as New York and Los Angeles had the highest user density and order counts.\n",
        "\n",
        "Ratings and Revenue:\n",
        "Higher session ratings correlated positively with higher spending. Users who rated sessions above 4.5 tended to spend more on average.\n",
        "\n",
        "Favorite Meals and User Behavior:\n",
        "Users who selected dinner as their favorite meal had higher engagement rates in both cooking sessions and order completions."
      ]
    },
    {
      "cell_type": "markdown",
      "metadata": {},
      "source": []
    }
  ],
  "metadata": {
    "colab": {
      "provenance": []
    },
    "kernelspec": {
      "display_name": "Python 3",
      "language": "python",
      "name": "python3"
    },
    "language_info": {
      "codemirror_mode": {
        "name": "ipython",
        "version": 3
      },
      "file_extension": ".py",
      "mimetype": "text/x-python",
      "name": "python",
      "nbconvert_exporter": "python",
      "pygments_lexer": "ipython3",
      "version": "3.8.10"
    }
  },
  "nbformat": 4,
  "nbformat_minor": 0
}
